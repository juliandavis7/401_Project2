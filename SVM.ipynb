{
 "cells": [
  {
   "cell_type": "code",
   "execution_count": 1,
   "metadata": {},
   "outputs": [],
   "source": [
    "import pandas as pd\n",
    "import numpy as np\n",
    "import os\n",
    "import timeit\n"
   ]
  },
  {
   "cell_type": "markdown",
   "metadata": {},
   "source": [
    "# Building the Soft-SVM"
   ]
  },
  {
   "cell_type": "code",
   "execution_count": 2,
   "metadata": {},
   "outputs": [],
   "source": [
    "def gradient_comp(X,y,C,w0):\n",
    "    summands_of_X = X[X.dot(w0) * y <= 1]\n",
    "    summands_of_y = y[summands_of_X.index]\n",
    "    summands = -1*summands_of_X.multiply(summands_of_y,axis=0)\n",
    "    gradient = w0 + C*summands.sum()\n",
    "    return gradient"
   ]
  },
  {
   "cell_type": "code",
   "execution_count": 3,
   "metadata": {},
   "outputs": [],
   "source": [
    "def stochastic_gradient_comp(X,y,C,w0,batch):\n",
    "    Xsamp = X.sample(batch)\n",
    "    ysamp = y[Xsamp.index]\n",
    "    summands_of_X = Xsamp[Xsamp.dot(w0) * ysamp <= 1]\n",
    "    summands_of_y = ysamp[summands_of_X.index]\n",
    "    \n",
    "    summands = -1*summands_of_X.multiply(summands_of_y,axis=0)\n",
    "    gradient = w0 + C*(1/batch)*summands.sum()\n",
    "    return gradient"
   ]
  },
  {
   "cell_type": "code",
   "execution_count": 14,
   "metadata": {},
   "outputs": [],
   "source": [
    "def soft_SVM_training(X,y,C,w0,eps,lr,n,batch):\n",
    "    # X is training data\n",
    "    # y is labels\n",
    "    # C is penalty of how hard to be\n",
    "    # w is initial weights vector (np.array)\n",
    "    # eps is convergence criterion\n",
    "    # lr is learning rate\n",
    "    \n",
    "    # Computing gradient of L\n",
    "    i = 0\n",
    "    gradw = None\n",
    "    if batch == None:\n",
    "        gradw = gradient_comp(X,y,C,w0)\n",
    "    else:\n",
    "        gradw = stochastic_gradient_comp(X,y,C,w0,batch)\n",
    "    w1 = w0 - lr*gradw\n",
    "    while(np.linalg.norm(w0-w1) > eps):\n",
    "        w0 = w1\n",
    "        gradw = None\n",
    "        if batch == None:\n",
    "            gradw = gradient_comp(X,y,C,w0)\n",
    "        else:\n",
    "            gradw = stochastic_gradient_comp(X,y,C,w0,batch)\n",
    "        w1 = w0 - lr*gradw\n",
    "        i = i + 1\n",
    "        if(i%100==0 and n==100):\n",
    "            print(i)\n",
    "        elif(i%1000==0 and n>1000):\n",
    "            print(i)\n",
    "        if i == n:\n",
    "            break\n",
    "    print(np.linalg.norm(w0-w1))\n",
    "    return w1"
   ]
  },
  {
   "cell_type": "code",
   "execution_count": 5,
   "metadata": {},
   "outputs": [],
   "source": [
    "def Testing_soft_SVM(X,y,w):\n",
    "    # X is the X_test set (in the form of the training set). There should\n",
    "    # be a column of ones at the same spot as there is in the training.\n",
    "    # y is the y_test actual values\n",
    "    # w is the out put weights from the soft_SVM_training\n",
    "    vals = X.values.dot(w)\n",
    "    predictions = pd.Series((vals/abs(vals)).astype(int))\n",
    "    TP = sum(y[(predictions[(predictions > 0)].index)] > 0)\n",
    "    TN = sum(y[predictions[(predictions < 0)].index] < 0)\n",
    "    FP = sum(y[predictions[(predictions > 0)].index] < 0)\n",
    "    FN = sum(y[predictions[(predictions < 0)].index] > 0)\n",
    "#     print(\"TP\",TP)\n",
    "#     print(\"TN\",TN)\n",
    "#     print(\"FP\",FP)\n",
    "#     print(\"FN\",FN)\n",
    "    accuracy = (TP+TN)/(TP+TN+FP+FN)\n",
    "    #precision = TP/(TP+FP)\n",
    "    #recall = TP/(TP+FN)\n",
    "    #f1 = 2*(precision*recall)/(precision+recall)\n",
    "    #return {\"accuracy\":accuracy,\"precision\":precision,\"recall\":recall, \"f1\":f1}\n",
    "    #return {\"accuracy\":accuracy,\"recall\":recall}\n",
    "    X.drop(\"ones\",axis=1)\n",
    "    return accuracy\n",
    "    "
   ]
  },
  {
   "cell_type": "code",
   "execution_count": 16,
   "metadata": {},
   "outputs": [],
   "source": [
    "def produce_confusion_matrix(y_pred, y_test):\n",
    "    res = pd.DataFrame({\"Prediction\": y_pred, \"Actual\": y_test})\n",
    "\n",
    "    res_positives = res[res[\"Actual\"] == 1]\n",
    "    res_negatives = res[res[\"Actual\"] == -1]\n",
    "\n",
    "    positives_dict = dict(res_positives[\"Prediction\"].value_counts())\n",
    "    TPs = positives_dict[1]\n",
    "    FNs = positives_dict[-1]\n",
    "\n",
    "    negatives_dict = dict(res_negatives[\"Prediction\"].value_counts())\n",
    "    TNs = negatives_dict[-1]\n",
    "    FPs = negatives_dict[1]\n",
    "\n",
    "    positives = pd.Series([TPs, FNs])\n",
    "    negatives = pd.Series([FPs, TNs])\n",
    "\n",
    "    confusion_matrix = pd.DataFrame({\"Actually Positive\": positives, \"Actually Negative\": negatives})\n",
    "    confusion_matrix.rename({0: \"Prediced Positive\", 1: \"Predicted Negative\"}, inplace=True)\n",
    "    return confusion_matrix"
   ]
  },
  {
   "cell_type": "markdown",
   "metadata": {},
   "source": [
    "# Train and Test (Feature Set #1)"
   ]
  },
  {
   "cell_type": "code",
   "execution_count": 19,
   "metadata": {},
   "outputs": [],
   "source": [
    "df_train = pd.read_csv(\"train1.csv\").drop(\"Unnamed: 0\",axis=1)\n",
    "df_test = pd.read_csv(\"test1.csv\").drop(\"Unnamed: 0\",axis=1)\n",
    "\n",
    "X_train = df_train.drop(\"Label\", axis=1)\n",
    "y_train = df_train[\"Label\"]\n",
    "X_test = df_test.drop(\"Label\", axis=1)\n",
    "y_test = df_test[\"Label\"]"
   ]
  },
  {
   "cell_type": "code",
   "execution_count": 20,
   "metadata": {},
   "outputs": [],
   "source": [
    "#X_train_normalized = X_train.divide(np.sqrt((X_train**2).sum()), axis=1)\n",
    "#X_test_normalized = X_test.divide(np.sqrt((X_test**2).sum()), axis=1)\n",
    "X_train_sd = (X_train - X_train.mean())/(X_train.std())\n",
    "X_test_sd = (X_test - X_train.mean())/(X_train.std())\n",
    "\n",
    "X_train_sd[\"ones\"] = [1]*len(y_train)\n",
    "X_test_sd[\"ones\"] = [1]*len(y_test)"
   ]
  },
  {
   "cell_type": "code",
   "execution_count": 9,
   "metadata": {},
   "outputs": [
    {
     "name": "stdout",
     "output_type": "stream",
     "text": [
      "10000\n",
      "0.0003953761107159405\n",
      "Accuracy: 0.72972\n",
      "Time (minutes) elapsed for this cell: 0.562403336816836\n"
     ]
    }
   ],
   "source": [
    "start_time = timeit.default_timer()\n",
    "\n",
    "weight_sd1 = soft_SVM_training(X_train_sd,\n",
    "                  y_train,\n",
    "                  25,\n",
    "                  np.array(X_train_sd.mean()),\n",
    "                  10**-6,\n",
    "                  0.001,\n",
    "                  10000,\n",
    "                  1000)\n",
    "acc = Testing_soft_SVM(X_test_sd,y_test,weight_sd1)\n",
    "print(\"Accuracy:\",acc)\n",
    "elapsed = timeit.default_timer() - start_time\n",
    "print(\"Time (minutes) elapsed for this cell:\", elapsed/60)"
   ]
  },
  {
   "cell_type": "code",
   "execution_count": 10,
   "metadata": {},
   "outputs": [
    {
     "name": "stdout",
     "output_type": "stream",
     "text": [
      "10000\n",
      "0.0039596215016009404\n",
      "Accuracy: 0.73068\n",
      "Time (minutes) elapsed for this cell: 0.5633023579003444\n"
     ]
    }
   ],
   "source": [
    "start_time = timeit.default_timer()\n",
    "\n",
    "weight_sd1 = soft_SVM_training(X_train_sd,\n",
    "                  y_train,\n",
    "                  150,\n",
    "                  np.array(X_train_sd.mean()),\n",
    "                  10**-6,\n",
    "                  0.001,\n",
    "                  10000,\n",
    "                  1000)\n",
    "acc = Testing_soft_SVM(X_test_sd,y_test,weight_sd1)\n",
    "print(\"Accuracy:\",acc)\n",
    "elapsed = timeit.default_timer() - start_time\n",
    "print(\"Time (minutes) elapsed for this cell:\", elapsed/60)"
   ]
  },
  {
   "cell_type": "code",
   "execution_count": 11,
   "metadata": {},
   "outputs": [
    {
     "name": "stdout",
     "output_type": "stream",
     "text": [
      "10000\n",
      "2.24416771227937e-05\n",
      "Accuracy: 0.72744\n",
      "Time (minutes) elapsed for this cell: 0.5637090736000876\n"
     ]
    }
   ],
   "source": [
    "start_time = timeit.default_timer()\n",
    "\n",
    "weight_sd1 = soft_SVM_training(X_train_sd,\n",
    "                  y_train,\n",
    "                  1,\n",
    "                  np.array(X_train_sd.mean()),\n",
    "                  10**-6,\n",
    "                  0.001,\n",
    "                  10000,\n",
    "                  1000)\n",
    "acc = Testing_soft_SVM(X_test_sd,y_test,weight_sd1)\n",
    "print(\"Accuracy:\",acc)\n",
    "elapsed = timeit.default_timer() - start_time\n",
    "print(\"Time (minutes) elapsed for this cell:\", elapsed/60)"
   ]
  },
  {
   "cell_type": "code",
   "execution_count": 12,
   "metadata": {},
   "outputs": [
    {
     "name": "stdout",
     "output_type": "stream",
     "text": [
      "10000\n",
      "0.024428667489035594\n",
      "Accuracy: 0.72976\n",
      "Time (minutes) elapsed for this cell: 0.5649455571333722\n"
     ]
    }
   ],
   "source": [
    "start_time = timeit.default_timer()\n",
    "\n",
    "weight_sd1 = soft_SVM_training(X_train_sd,\n",
    "                  y_train,\n",
    "                  1000,\n",
    "                  np.array(X_train_sd.mean()),\n",
    "                  10**-6,\n",
    "                  0.001,\n",
    "                  10000,\n",
    "                  1000)\n",
    "acc = Testing_soft_SVM(X_test_sd,y_test,weight_sd1)\n",
    "print(\"Accuracy:\",acc)\n",
    "elapsed = timeit.default_timer() - start_time\n",
    "print(\"Time (minutes) elapsed for this cell:\", elapsed/60)"
   ]
  },
  {
   "cell_type": "code",
   "execution_count": 13,
   "metadata": {},
   "outputs": [
    {
     "name": "stdout",
     "output_type": "stream",
     "text": [
      "10000\n",
      "20000\n",
      "0.04848468198627459\n",
      "Accuracy: 0.73268\n",
      "Time (minutes) elapsed for this cell: 1.1262075298165048\n"
     ]
    }
   ],
   "source": [
    "start_time = timeit.default_timer()\n",
    "\n",
    "weight_sd1 = soft_SVM_training(X_train_sd,\n",
    "                  y_train,\n",
    "                  10000,\n",
    "                  np.array(X_train_sd.mean()),\n",
    "                  10**-6,\n",
    "                  0.0001,\n",
    "                  20000,\n",
    "                  1000)\n",
    "acc = Testing_soft_SVM(X_test_sd,y_test,weight_sd1)\n",
    "print(\"Accuracy:\",acc)\n",
    "elapsed = timeit.default_timer() - start_time\n",
    "print(\"Time (minutes) elapsed for this cell:\", elapsed/60)"
   ]
  },
  {
   "cell_type": "markdown",
   "metadata": {},
   "source": [
    "## Adding Interactions"
   ]
  },
  {
   "cell_type": "code",
   "execution_count": 21,
   "metadata": {},
   "outputs": [],
   "source": [
    "X_train2 = X_train.copy()\n",
    "X_test2 = X_test.copy()\n",
    "y_train2 = y_train.copy()\n",
    "y_test2 = y_test.copy()"
   ]
  },
  {
   "cell_type": "code",
   "execution_count": 22,
   "metadata": {},
   "outputs": [],
   "source": [
    "X_train2[\"Interaction_posc_negc\"] = X_train2.Positive_counts*X_train2.Negative_counts\n",
    "X_test2[\"Interaction_posc_negc\"] = X_test2.Positive_counts*X_test2.Negative_counts\n",
    "X_train_sd2 = (X_train2 - X_train2.mean())/(X_train2.std())\n",
    "X_test_sd2 = (X_test2 - X_train2.mean())/(X_train2.std())\n",
    "\n",
    "X_train_sd2[\"ones\"] = [1]*len(y_train)\n",
    "X_test_sd2[\"ones\"] = [1]*len(y_test)"
   ]
  },
  {
   "cell_type": "code",
   "execution_count": 16,
   "metadata": {},
   "outputs": [
    {
     "name": "stdout",
     "output_type": "stream",
     "text": [
      "10000\n",
      "0.0005271397520144507\n",
      "Accuracy: 0.73452\n",
      "Time (minutes) elapsed for this cell: 0.5795223824165684\n"
     ]
    }
   ],
   "source": [
    "\n",
    "start_time = timeit.default_timer()\n",
    "\n",
    "weight_sd2 = soft_SVM_training(X_train_sd2,\n",
    "                  y_train,\n",
    "                  150,\n",
    "                  np.array(X_train_sd2.mean()),\n",
    "                  10**-6,\n",
    "                  0.0001,\n",
    "                  10000,\n",
    "                  1000)\n",
    "acc = Testing_soft_SVM(X_test_sd2,y_test,weight_sd2)\n",
    "print(\"Accuracy:\",acc)\n",
    "elapsed = timeit.default_timer() - start_time\n",
    "print(\"Time (minutes) elapsed for this cell:\", elapsed/60)"
   ]
  },
  {
   "cell_type": "markdown",
   "metadata": {},
   "source": [
    "# Squaring Terms"
   ]
  },
  {
   "cell_type": "code",
   "execution_count": 23,
   "metadata": {},
   "outputs": [],
   "source": [
    "X_train3 = X_train2.copy()\n",
    "X_test3 = X_test2.copy()\n",
    "y_train3 = y_train2.copy()\n",
    "y_test3 = y_test2.copy()"
   ]
  },
  {
   "cell_type": "code",
   "execution_count": 24,
   "metadata": {},
   "outputs": [],
   "source": [
    "X_train3[\"Positive_counts2\"] = X_train3.Positive_counts**2\n",
    "X_train3[\"Negative_counts2\"] = X_train3.Negative_counts**2\n",
    "X_test3[\"Positive_counts2\"] = X_test3.Positive_counts**2\n",
    "X_test3[\"Negative_counts2\"] = X_test3.Negative_counts**2\n",
    "X_train_sd3 = (X_train3 - X_train3.mean())/(X_train3.std())\n",
    "X_test_sd3 = (X_test3 - X_train3.mean())/(X_train3.std())\n",
    "\n",
    "X_train_sd3[\"ones\"] = [1]*len(y_train)\n",
    "X_test_sd3[\"ones\"] = [1]*len(y_test)"
   ]
  },
  {
   "cell_type": "code",
   "execution_count": 26,
   "metadata": {},
   "outputs": [
    {
     "name": "stdout",
     "output_type": "stream",
     "text": [
      "1000\n",
      "2000\n",
      "3000\n",
      "4000\n",
      "5000\n",
      "6000\n",
      "7000\n",
      "8000\n",
      "9000\n",
      "10000\n",
      "0.0002614761574683129\n",
      "Accuracy: 0.73516\n",
      "Time (minutes) elapsed for this cell: 1.0143996904832118\n"
     ]
    }
   ],
   "source": [
    "start_time = timeit.default_timer()\n",
    "\n",
    "weight_sd3 = soft_SVM_training(X_train_sd3,\n",
    "                  y_train,\n",
    "                  150,\n",
    "                  np.array(X_train_sd3.mean()),\n",
    "                  10**-6,\n",
    "                  0.0001,\n",
    "                  10000,\n",
    "                  1000)\n",
    "acc = Testing_soft_SVM(X_test_sd3,y_test,weight_sd3)\n",
    "print(\"Accuracy:\",acc)\n",
    "elapsed = timeit.default_timer() - start_time\n",
    "print(\"Time (minutes) elapsed for this cell:\", elapsed/60)"
   ]
  },
  {
   "cell_type": "code",
   "execution_count": 28,
   "metadata": {},
   "outputs": [
    {
     "data": {
      "text/html": [
       "<div>\n",
       "<style scoped>\n",
       "    .dataframe tbody tr th:only-of-type {\n",
       "        vertical-align: middle;\n",
       "    }\n",
       "\n",
       "    .dataframe tbody tr th {\n",
       "        vertical-align: top;\n",
       "    }\n",
       "\n",
       "    .dataframe thead th {\n",
       "        text-align: right;\n",
       "    }\n",
       "</style>\n",
       "<table border=\"1\" class=\"dataframe\">\n",
       "  <thead>\n",
       "    <tr style=\"text-align: right;\">\n",
       "      <th></th>\n",
       "      <th>Actually Positive</th>\n",
       "      <th>Actually Negative</th>\n",
       "    </tr>\n",
       "  </thead>\n",
       "  <tbody>\n",
       "    <tr>\n",
       "      <th>Prediced Positive</th>\n",
       "      <td>9106</td>\n",
       "      <td>3227</td>\n",
       "    </tr>\n",
       "    <tr>\n",
       "      <th>Predicted Negative</th>\n",
       "      <td>3394</td>\n",
       "      <td>9273</td>\n",
       "    </tr>\n",
       "  </tbody>\n",
       "</table>\n",
       "</div>"
      ],
      "text/plain": [
       "                    Actually Positive  Actually Negative\n",
       "Prediced Positive                9106               3227\n",
       "Predicted Negative               3394               9273"
      ]
     },
     "execution_count": 28,
     "metadata": {},
     "output_type": "execute_result"
    }
   ],
   "source": [
    "vals = X_test_sd3.values.dot(weight_sd3)\n",
    "predictions = pd.Series((vals/abs(vals)).astype(int))\n",
    "confusion_matrix = produce_confusion_matrix(predictions, y_test)\n",
    "confusion_matrix"
   ]
  },
  {
   "cell_type": "markdown",
   "metadata": {},
   "source": [
    "# Cubing Terms"
   ]
  },
  {
   "cell_type": "code",
   "execution_count": 20,
   "metadata": {},
   "outputs": [],
   "source": [
    "X_train4 = X_train3.copy()\n",
    "X_test4 = X_test3.copy()\n",
    "y_train4 = y_train3.copy()\n",
    "y_test4 = y_test3.copy()"
   ]
  },
  {
   "cell_type": "code",
   "execution_count": 21,
   "metadata": {},
   "outputs": [],
   "source": [
    "X_train4[\"Positive_counts3\"] = X_train4.Positive_counts**3\n",
    "X_train4[\"Negative_counts3\"] = X_train4.Negative_counts**3\n",
    "X_test4[\"Positive_counts3\"] = X_test4.Positive_counts**3\n",
    "X_test4[\"Negative_counts3\"] = X_test4.Negative_counts**3\n",
    "X_train_sd4 = (X_train4 - X_train4.mean())/(X_train4.std())\n",
    "X_test_sd4 = (X_test4 - X_train4.mean())/(X_train4.std())\n",
    "\n",
    "X_train_sd4[\"ones\"] = [1]*len(y_train)\n",
    "X_test_sd4[\"ones\"] = [1]*len(y_test)"
   ]
  },
  {
   "cell_type": "code",
   "execution_count": 22,
   "metadata": {},
   "outputs": [
    {
     "name": "stdout",
     "output_type": "stream",
     "text": [
      "10000\n",
      "0.0006851612798893962\n",
      "Accuracy: 0.73476\n",
      "Time (minutes) elapsed for this cell: 0.6413198845499816\n"
     ]
    }
   ],
   "source": [
    "start_time = timeit.default_timer()\n",
    "\n",
    "weight_sd4 = soft_SVM_training(X_train_sd4,\n",
    "                  y_train,\n",
    "                  150,\n",
    "                  np.array(X_train_sd4.mean()),\n",
    "                  10**-6,\n",
    "                  0.0001,\n",
    "                  10000,\n",
    "                  1000)\n",
    "acc = Testing_soft_SVM(X_test_sd4,y_test,weight_sd4)\n",
    "print(\"Accuracy:\",acc)\n",
    "elapsed = timeit.default_timer() - start_time\n",
    "print(\"Time (minutes) elapsed for this cell:\", elapsed/60)"
   ]
  },
  {
   "cell_type": "markdown",
   "metadata": {},
   "source": [
    "**Hardly any improvement adding polynomial terms**"
   ]
  },
  {
   "cell_type": "markdown",
   "metadata": {},
   "source": [
    "### Trying different values of C (using quadratic, because it has the best accuracy)"
   ]
  },
  {
   "cell_type": "code",
   "execution_count": 23,
   "metadata": {},
   "outputs": [
    {
     "name": "stdout",
     "output_type": "stream",
     "text": [
      "10000\n",
      "20000\n",
      "1.3833856746813569e-05\n",
      "10000\n",
      "20000\n",
      "1.7326273052926234e-05\n",
      "10000\n",
      "20000\n",
      "4.54845185444014e-05\n",
      "10000\n",
      "20000\n",
      "7.102209554068752e-05\n",
      "10000\n",
      "20000\n",
      "0.0002847981853030444\n",
      "10000\n",
      "20000\n",
      "0.0013214326228951478\n",
      "10000\n",
      "20000\n",
      "0.0022622196084515806\n",
      "10000\n",
      "20000\n",
      "0.0011513591720359545\n",
      "10000\n",
      "20000\n",
      "0.010812663750522386\n",
      "10000\n",
      "20000\n",
      "0.0026494517265343294\n",
      "10000\n",
      "20000\n",
      "0.00842969403700761\n",
      "Time (minutes) elapsed for this cell: 16.006369200866416\n"
     ]
    }
   ],
   "source": [
    "start_time = timeit.default_timer()\n",
    "Cs = [1,5,10,25,50,150,350,500,1000,1500,1750]\n",
    "accs = []\n",
    "times = []\n",
    "for c in Cs:\n",
    "    weight_sd3 = soft_SVM_training(X_train_sd3,\n",
    "                      y_train,\n",
    "                      c,\n",
    "                      np.array(X_train_sd3.mean()),\n",
    "                      10**-6,\n",
    "                      0.0001,\n",
    "                      20000,\n",
    "                      1000)\n",
    "    acc = Testing_soft_SVM(X_test_sd3,y_test,weight_sd3)\n",
    "    accs.append(acc)\n",
    "    times.append(timeit.default_timer() - start_time)\n",
    "elapsed = timeit.default_timer() - start_time\n",
    "print(\"Time (minutes) elapsed for this cell:\", elapsed/60)"
   ]
  },
  {
   "cell_type": "code",
   "execution_count": 24,
   "metadata": {},
   "outputs": [
    {
     "data": {
      "text/html": [
       "<div>\n",
       "<style scoped>\n",
       "    .dataframe tbody tr th:only-of-type {\n",
       "        vertical-align: middle;\n",
       "    }\n",
       "\n",
       "    .dataframe tbody tr th {\n",
       "        vertical-align: top;\n",
       "    }\n",
       "\n",
       "    .dataframe thead th {\n",
       "        text-align: right;\n",
       "    }\n",
       "</style>\n",
       "<table border=\"1\" class=\"dataframe\">\n",
       "  <thead>\n",
       "    <tr style=\"text-align: right;\">\n",
       "      <th></th>\n",
       "      <th>C</th>\n",
       "      <th>Accuracy</th>\n",
       "      <th>Time</th>\n",
       "    </tr>\n",
       "  </thead>\n",
       "  <tbody>\n",
       "    <tr>\n",
       "      <th>0</th>\n",
       "      <td>1</td>\n",
       "      <td>0.66716</td>\n",
       "      <td>74.162477</td>\n",
       "    </tr>\n",
       "    <tr>\n",
       "      <th>1</th>\n",
       "      <td>5</td>\n",
       "      <td>0.72984</td>\n",
       "      <td>149.137039</td>\n",
       "    </tr>\n",
       "    <tr>\n",
       "      <th>2</th>\n",
       "      <td>10</td>\n",
       "      <td>0.72976</td>\n",
       "      <td>223.663704</td>\n",
       "    </tr>\n",
       "    <tr>\n",
       "      <th>3</th>\n",
       "      <td>25</td>\n",
       "      <td>0.73060</td>\n",
       "      <td>298.410578</td>\n",
       "    </tr>\n",
       "    <tr>\n",
       "      <th>4</th>\n",
       "      <td>50</td>\n",
       "      <td>0.73280</td>\n",
       "      <td>372.337340</td>\n",
       "    </tr>\n",
       "    <tr>\n",
       "      <th>5</th>\n",
       "      <td>150</td>\n",
       "      <td>0.73516</td>\n",
       "      <td>446.681412</td>\n",
       "    </tr>\n",
       "    <tr>\n",
       "      <th>6</th>\n",
       "      <td>350</td>\n",
       "      <td>0.73468</td>\n",
       "      <td>535.802368</td>\n",
       "    </tr>\n",
       "    <tr>\n",
       "      <th>7</th>\n",
       "      <td>500</td>\n",
       "      <td>0.73472</td>\n",
       "      <td>634.018696</td>\n",
       "    </tr>\n",
       "    <tr>\n",
       "      <th>8</th>\n",
       "      <td>1000</td>\n",
       "      <td>0.73472</td>\n",
       "      <td>734.267346</td>\n",
       "    </tr>\n",
       "    <tr>\n",
       "      <th>9</th>\n",
       "      <td>1500</td>\n",
       "      <td>0.73480</td>\n",
       "      <td>860.694729</td>\n",
       "    </tr>\n",
       "    <tr>\n",
       "      <th>10</th>\n",
       "      <td>1750</td>\n",
       "      <td>0.73472</td>\n",
       "      <td>960.382027</td>\n",
       "    </tr>\n",
       "  </tbody>\n",
       "</table>\n",
       "</div>"
      ],
      "text/plain": [
       "       C  Accuracy        Time\n",
       "0      1   0.66716   74.162477\n",
       "1      5   0.72984  149.137039\n",
       "2     10   0.72976  223.663704\n",
       "3     25   0.73060  298.410578\n",
       "4     50   0.73280  372.337340\n",
       "5    150   0.73516  446.681412\n",
       "6    350   0.73468  535.802368\n",
       "7    500   0.73472  634.018696\n",
       "8   1000   0.73472  734.267346\n",
       "9   1500   0.73480  860.694729\n",
       "10  1750   0.73472  960.382027"
      ]
     },
     "execution_count": 24,
     "metadata": {},
     "output_type": "execute_result"
    }
   ],
   "source": [
    "pd.DataFrame({\"C\":Cs,\"Accuracy\":accs,\"Time\":times})"
   ]
  },
  {
   "cell_type": "code",
   "execution_count": 98,
   "metadata": {},
   "outputs": [
    {
     "name": "stdout",
     "output_type": "stream",
     "text": [
      "1000\n",
      "2000\n",
      "3000\n",
      "4000\n",
      "5000\n",
      "6000\n",
      "7000\n",
      "8000\n",
      "9000\n",
      "10000\n",
      "11000\n",
      "12000\n",
      "13000\n",
      "14000\n",
      "15000\n",
      "16000\n",
      "17000\n",
      "18000\n",
      "19000\n",
      "20000\n",
      "21000\n",
      "22000\n",
      "23000\n",
      "24000\n",
      "25000\n",
      "26000\n",
      "27000\n",
      "28000\n",
      "29000\n",
      "30000\n",
      "31000\n",
      "32000\n",
      "33000\n",
      "34000\n",
      "35000\n",
      "36000\n",
      "37000\n",
      "38000\n",
      "39000\n",
      "40000\n",
      "41000\n",
      "42000\n",
      "43000\n",
      "44000\n",
      "45000\n",
      "46000\n",
      "47000\n",
      "48000\n",
      "49000\n",
      "50000\n",
      "51000\n",
      "52000\n",
      "53000\n",
      "54000\n",
      "55000\n",
      "56000\n",
      "57000\n",
      "58000\n",
      "59000\n",
      "60000\n",
      "61000\n",
      "62000\n",
      "63000\n",
      "64000\n",
      "65000\n",
      "66000\n",
      "67000\n",
      "68000\n",
      "69000\n",
      "70000\n",
      "71000\n",
      "72000\n",
      "73000\n",
      "74000\n",
      "75000\n",
      "76000\n",
      "77000\n",
      "78000\n",
      "79000\n",
      "80000\n",
      "81000\n",
      "82000\n",
      "83000\n",
      "84000\n",
      "85000\n",
      "86000\n",
      "87000\n",
      "88000\n",
      "89000\n",
      "90000\n",
      "91000\n",
      "92000\n",
      "93000\n",
      "94000\n",
      "95000\n",
      "96000\n",
      "97000\n",
      "98000\n",
      "99000\n",
      "100000\n",
      "101000\n",
      "102000\n",
      "103000\n",
      "104000\n",
      "105000\n",
      "106000\n",
      "107000\n",
      "108000\n",
      "109000\n",
      "110000\n",
      "111000\n",
      "112000\n",
      "113000\n",
      "114000\n",
      "115000\n",
      "116000\n",
      "117000\n",
      "118000\n",
      "119000\n",
      "120000\n",
      "121000\n",
      "122000\n",
      "123000\n",
      "124000\n",
      "125000\n",
      "126000\n",
      "127000\n",
      "128000\n",
      "129000\n",
      "130000\n",
      "131000\n",
      "132000\n",
      "133000\n",
      "134000\n",
      "135000\n",
      "136000\n",
      "137000\n",
      "138000\n",
      "139000\n",
      "140000\n",
      "141000\n",
      "142000\n",
      "143000\n",
      "144000\n",
      "145000\n",
      "146000\n",
      "147000\n",
      "148000\n",
      "149000\n",
      "150000\n",
      "11.933529654333968\n",
      "Accuracy: 0.73424\n",
      "Time (minutes) elapsed for this cell: 12.413367557283346\n"
     ]
    }
   ],
   "source": [
    "# No batch\n",
    "start_time = timeit.default_timer()\n",
    "\n",
    "weight_sd4 = soft_SVM_training(X_train_sd3,\n",
    "                  y_train,\n",
    "                  1000,\n",
    "                  np.array(X_train_sd3.mean()),\n",
    "                  10**-6,\n",
    "                  0.000001,\n",
    "                  150000,\n",
    "                  None)\n",
    "acc = Testing_soft_SVM(X_test_sd3,y_test,weight_sd3)\n",
    "print(\"Accuracy:\",acc)\n",
    "elapsed = timeit.default_timer() - start_time\n",
    "print(\"Time (minutes) elapsed for this cell:\", elapsed/60)"
   ]
  },
  {
   "cell_type": "markdown",
   "metadata": {},
   "source": [
    "Had the same accuracy even when the difference in error between two sequential iterations was more than 100"
   ]
  },
  {
   "cell_type": "markdown",
   "metadata": {},
   "source": [
    "# Training and Test (Feature Test 2)"
   ]
  },
  {
   "cell_type": "code",
   "execution_count": 7,
   "metadata": {},
   "outputs": [
    {
     "name": "stdout",
     "output_type": "stream",
     "text": [
      "Time (minutes) elapsed for this cell: 0.7005592003998269\n"
     ]
    }
   ],
   "source": [
    "start_time = timeit.default_timer()\n",
    "\n",
    "df_train = pd.read_csv(\"train2.csv\").drop(\"Unnamed: 0\",axis=1)\n",
    "df_test = pd.read_csv(\"test2.csv\").drop(\"Unnamed: 0\",axis=1)\n",
    "\n",
    "elapsed = timeit.default_timer() - start_time\n",
    "print(\"Time (minutes) elapsed for this cell:\", elapsed/60)"
   ]
  },
  {
   "cell_type": "code",
   "execution_count": 8,
   "metadata": {},
   "outputs": [
    {
     "data": {
      "text/plain": [
       "1039"
      ]
     },
     "execution_count": 8,
     "metadata": {},
     "output_type": "execute_result"
    }
   ],
   "source": [
    "# remove columns that are too sparse, allows LDA to perform matrix algebra\n",
    "cols_to_drop = []\n",
    "df = df_train.drop(\"Label\", axis=1)\n",
    "for col in df:\n",
    "    num_vals = len(df) - df[col].value_counts()[0]\n",
    "    if num_vals < 3:\n",
    "        cols_to_drop.append(col)\n",
    "len(cols_to_drop)"
   ]
  },
  {
   "cell_type": "code",
   "execution_count": 9,
   "metadata": {},
   "outputs": [],
   "source": [
    "df_train.drop(cols_to_drop, axis=1, inplace=True)\n",
    "df_test.drop(cols_to_drop, axis=1, inplace=True)\n",
    "\n",
    "X_train = df_train.drop(\"Label\", axis=1)\n",
    "y_train = df_train[\"Label\"]\n",
    "X_test = df_test.drop(\"Label\", axis=1)\n",
    "y_test = df_test[\"Label\"]"
   ]
  },
  {
   "cell_type": "code",
   "execution_count": 10,
   "metadata": {},
   "outputs": [],
   "source": [
    "X_train[\"ones\"] = [1]*len(y_train)\n",
    "X_test[\"ones\"] = [1]*len(y_test)"
   ]
  },
  {
   "cell_type": "markdown",
   "metadata": {},
   "source": [
    "### SVM Classifier results"
   ]
  },
  {
   "cell_type": "code",
   "execution_count": 29,
   "metadata": {},
   "outputs": [
    {
     "name": "stdout",
     "output_type": "stream",
     "text": [
      "0.004091286810136984\n",
      "Accuracy: 0.8276\n",
      "Time (minutes) elapsed for this cell: 10.32927629704985\n"
     ]
    }
   ],
   "source": [
    "start_time = timeit.default_timer()\n",
    "\n",
    "weights = soft_SVM_training(X_train,\n",
    "                  y_train,\n",
    "                  25,\n",
    "                  np.array(X_train.mean()),\n",
    "                  10^-3,\n",
    "                  0.001,\n",
    "                  5000,\n",
    "                  1000)\n",
    "acc = Testing_soft_SVM(X_test,y_test,weights)\n",
    "print(\"Accuracy:\",acc)\n",
    "elapsed = timeit.default_timer() - start_time\n",
    "print(\"Time (minutes) elapsed for this cell:\", elapsed/60)"
   ]
  },
  {
   "cell_type": "code",
   "execution_count": 30,
   "metadata": {},
   "outputs": [
    {
     "data": {
      "text/html": [
       "<div>\n",
       "<style scoped>\n",
       "    .dataframe tbody tr th:only-of-type {\n",
       "        vertical-align: middle;\n",
       "    }\n",
       "\n",
       "    .dataframe tbody tr th {\n",
       "        vertical-align: top;\n",
       "    }\n",
       "\n",
       "    .dataframe thead th {\n",
       "        text-align: right;\n",
       "    }\n",
       "</style>\n",
       "<table border=\"1\" class=\"dataframe\">\n",
       "  <thead>\n",
       "    <tr style=\"text-align: right;\">\n",
       "      <th></th>\n",
       "      <th>Actually Positive</th>\n",
       "      <th>Actually Negative</th>\n",
       "    </tr>\n",
       "  </thead>\n",
       "  <tbody>\n",
       "    <tr>\n",
       "      <th>Prediced Positive</th>\n",
       "      <td>0.86096</td>\n",
       "      <td>0.20576</td>\n",
       "    </tr>\n",
       "    <tr>\n",
       "      <th>Predicted Negative</th>\n",
       "      <td>0.13904</td>\n",
       "      <td>0.79424</td>\n",
       "    </tr>\n",
       "  </tbody>\n",
       "</table>\n",
       "</div>"
      ],
      "text/plain": [
       "                    Actually Positive  Actually Negative\n",
       "Prediced Positive             0.86096            0.20576\n",
       "Predicted Negative            0.13904            0.79424"
      ]
     },
     "execution_count": 30,
     "metadata": {},
     "output_type": "execute_result"
    }
   ],
   "source": [
    "vals = X_test.values.dot(weights)\n",
    "predictions = pd.Series((vals/abs(vals)).astype(int))\n",
    "confusion_matrix = produce_confusion_matrix(predictions, y_test)\n",
    "confusion_matrix"
   ]
  },
  {
   "cell_type": "code",
   "execution_count": 11,
   "metadata": {},
   "outputs": [
    {
     "name": "stdout",
     "output_type": "stream",
     "text": [
      "100\n",
      "200\n",
      "300\n",
      "400\n",
      "500\n",
      "600\n",
      "700\n",
      "800\n",
      "900\n",
      "1000\n",
      "1100\n",
      "1200\n",
      "1300\n",
      "1400\n",
      "1500\n",
      "1600\n",
      "1700\n",
      "1800\n",
      "1900\n",
      "2000\n",
      "2100\n",
      "2200\n",
      "2300\n",
      "2400\n",
      "2500\n",
      "2600\n",
      "2700\n",
      "2800\n",
      "2900\n",
      "3000\n",
      "3100\n",
      "3200\n",
      "3300\n",
      "3400\n",
      "3500\n",
      "3600\n",
      "3700\n",
      "3800\n",
      "3900\n",
      "4000\n",
      "4100\n",
      "4200\n",
      "4300\n",
      "4400\n",
      "4500\n",
      "4600\n",
      "4700\n",
      "4800\n",
      "4900\n",
      "5000\n",
      "0.3295595874177372\n",
      "Accuracy: 0.88412\n",
      "Time (minutes) elapsed for this cell: 7.464184439599921\n"
     ]
    }
   ],
   "source": [
    "start_time = timeit.default_timer()\n",
    "\n",
    "weights2 = soft_SVM_training(X_train,\n",
    "                  y_train,\n",
    "                  1500,\n",
    "                  np.array(X_train.mean()),\n",
    "                  10**-3,\n",
    "                  0.001,\n",
    "                  5000,\n",
    "                  500)\n",
    "acc = Testing_soft_SVM(X_test,y_test,weights2)\n",
    "print(\"Accuracy:\",acc)\n",
    "elapsed = timeit.default_timer() - start_time\n",
    "print(\"Time (minutes) elapsed for this cell:\", elapsed/60)"
   ]
  },
  {
   "cell_type": "code",
   "execution_count": 17,
   "metadata": {},
   "outputs": [
    {
     "data": {
      "text/html": [
       "<div>\n",
       "<style scoped>\n",
       "    .dataframe tbody tr th:only-of-type {\n",
       "        vertical-align: middle;\n",
       "    }\n",
       "\n",
       "    .dataframe tbody tr th {\n",
       "        vertical-align: top;\n",
       "    }\n",
       "\n",
       "    .dataframe thead th {\n",
       "        text-align: right;\n",
       "    }\n",
       "</style>\n",
       "<table border=\"1\" class=\"dataframe\">\n",
       "  <thead>\n",
       "    <tr style=\"text-align: right;\">\n",
       "      <th></th>\n",
       "      <th>Actually Positive</th>\n",
       "      <th>Actually Negative</th>\n",
       "    </tr>\n",
       "  </thead>\n",
       "  <tbody>\n",
       "    <tr>\n",
       "      <th>Prediced Positive</th>\n",
       "      <td>10968</td>\n",
       "      <td>1365</td>\n",
       "    </tr>\n",
       "    <tr>\n",
       "      <th>Predicted Negative</th>\n",
       "      <td>1532</td>\n",
       "      <td>11135</td>\n",
       "    </tr>\n",
       "  </tbody>\n",
       "</table>\n",
       "</div>"
      ],
      "text/plain": [
       "                    Actually Positive  Actually Negative\n",
       "Prediced Positive               10968               1365\n",
       "Predicted Negative               1532              11135"
      ]
     },
     "execution_count": 17,
     "metadata": {},
     "output_type": "execute_result"
    }
   ],
   "source": [
    "vals = X_test.values.dot(weights2)\n",
    "predictions = pd.Series((vals/abs(vals)).astype(int))\n",
    "confusion_matrix = produce_confusion_matrix(predictions, y_test)\n",
    "confusion_matrix"
   ]
  },
  {
   "cell_type": "code",
   "execution_count": 15,
   "metadata": {},
   "outputs": [
    {
     "name": "stdout",
     "output_type": "stream",
     "text": [
      "1000\n",
      "2000\n",
      "3000\n",
      "4000\n",
      "5000\n",
      "0.015890762658256286\n",
      "Accuracy: 0.8786\n",
      "Time (minutes) elapsed for this cell: 8.620412674133453\n"
     ]
    }
   ],
   "source": [
    "start_time = timeit.default_timer()\n",
    "\n",
    "weights3 = soft_SVM_training(X_train,\n",
    "                  y_train,\n",
    "                  1500,\n",
    "                  np.array(X_train.mean()),\n",
    "                  10**-3,\n",
    "                  0.0001,\n",
    "                  5000,\n",
    "                  1000)\n",
    "acc = Testing_soft_SVM(X_test,y_test,weights3)\n",
    "print(\"Accuracy:\",acc)\n",
    "elapsed = timeit.default_timer() - start_time\n",
    "print(\"Time (minutes) elapsed for this cell:\", elapsed/60)"
   ]
  },
  {
   "cell_type": "code",
   "execution_count": 31,
   "metadata": {},
   "outputs": [
    {
     "name": "stdout",
     "output_type": "stream",
     "text": [
      "1000\n",
      "2000\n",
      "3000\n",
      "4000\n",
      "5000\n",
      "6000\n",
      "7000\n",
      "8000\n",
      "9000\n",
      "10000\n",
      "0.020859643567383616\n",
      "TP 11098\n",
      "TN 10989\n",
      "FP 1511\n",
      "FN 1402\n",
      "Accuracy: 0.88348\n",
      "Time (minutes) elapsed for this cell: 11.058828259466827\n"
     ]
    },
    {
     "name": "stderr",
     "output_type": "stream",
     "text": [
      "/opt/tljh/user/lib/python3.7/site-packages/ipykernel_launcher.py:7: RuntimeWarning: invalid value encountered in true_divide\n",
      "  import sys\n"
     ]
    }
   ],
   "source": [
    "start_time = timeit.default_timer()\n",
    "\n",
    "weights3 = soft_SVM_training(X_train,\n",
    "                  y_train,\n",
    "                  1500,\n",
    "                  np.array(X_train.mean()),\n",
    "                  10**-3,\n",
    "                  0.0001,\n",
    "                  10000,\n",
    "                  1000)\n",
    "acc = Testing_soft_SVM(X_test,y_test,weights3)\n",
    "print(\"Accuracy:\",acc)\n",
    "elapsed = timeit.default_timer() - start_time\n",
    "print(\"Time (minutes) elapsed for this cell:\", elapsed/60)"
   ]
  },
  {
   "cell_type": "code",
   "execution_count": 33,
   "metadata": {},
   "outputs": [
    {
     "name": "stderr",
     "output_type": "stream",
     "text": [
      "/opt/tljh/user/lib/python3.7/site-packages/ipykernel_launcher.py:2: RuntimeWarning: invalid value encountered in true_divide\n",
      "  \n"
     ]
    },
    {
     "data": {
      "text/html": [
       "<div>\n",
       "<style scoped>\n",
       "    .dataframe tbody tr th:only-of-type {\n",
       "        vertical-align: middle;\n",
       "    }\n",
       "\n",
       "    .dataframe tbody tr th {\n",
       "        vertical-align: top;\n",
       "    }\n",
       "\n",
       "    .dataframe thead th {\n",
       "        text-align: right;\n",
       "    }\n",
       "</style>\n",
       "<table border=\"1\" class=\"dataframe\">\n",
       "  <thead>\n",
       "    <tr style=\"text-align: right;\">\n",
       "      <th></th>\n",
       "      <th>Actually Positive</th>\n",
       "      <th>Actually Negative</th>\n",
       "    </tr>\n",
       "  </thead>\n",
       "  <tbody>\n",
       "    <tr>\n",
       "      <th>Prediced Positive</th>\n",
       "      <td>0.88784</td>\n",
       "      <td>0.12088</td>\n",
       "    </tr>\n",
       "    <tr>\n",
       "      <th>Predicted Negative</th>\n",
       "      <td>0.11184</td>\n",
       "      <td>0.87912</td>\n",
       "    </tr>\n",
       "  </tbody>\n",
       "</table>\n",
       "</div>"
      ],
      "text/plain": [
       "                    Actually Positive  Actually Negative\n",
       "Prediced Positive             0.88784            0.12088\n",
       "Predicted Negative            0.11184            0.87912"
      ]
     },
     "execution_count": 33,
     "metadata": {},
     "output_type": "execute_result"
    }
   ],
   "source": [
    "vals = X_test.values.dot(weights3)\n",
    "predictions = pd.Series((vals/abs(vals)).astype(int))\n",
    "confusion_matrix = produce_confusion_matrix(predictions, y_test)\n",
    "confusion_matrix"
   ]
  },
  {
   "cell_type": "code",
   "execution_count": null,
   "metadata": {},
   "outputs": [],
   "source": []
  },
  {
   "cell_type": "markdown",
   "metadata": {},
   "source": [
    "# -------------------------------------------------------------------------------------------"
   ]
  },
  {
   "cell_type": "markdown",
   "metadata": {},
   "source": [
    "On Top Adjectives"
   ]
  },
  {
   "cell_type": "code",
   "execution_count": 103,
   "metadata": {},
   "outputs": [],
   "source": [
    "top5000 = np.load(\"top5000.npy\")"
   ]
  },
  {
   "cell_type": "code",
   "execution_count": 109,
   "metadata": {},
   "outputs": [],
   "source": [
    "topAdj = (list(set(X_train.columns).intersection(set(top5000))))"
   ]
  },
  {
   "cell_type": "code",
   "execution_count": 114,
   "metadata": {},
   "outputs": [],
   "source": [
    "X_train = X_train[topAdj]\n",
    "X_test = X_test[topAdj]"
   ]
  },
  {
   "cell_type": "code",
   "execution_count": 119,
   "metadata": {},
   "outputs": [
    {
     "name": "stdout",
     "output_type": "stream",
     "text": [
      "1000\n",
      "2000\n",
      "3000\n",
      "4000\n",
      "5000\n",
      "6000\n",
      "7000\n",
      "8000\n",
      "9000\n",
      "10000\n",
      "11000\n",
      "12000\n",
      "13000\n",
      "14000\n",
      "15000\n",
      "16000\n",
      "17000\n",
      "18000\n",
      "19000\n",
      "20000\n",
      "21000\n",
      "22000\n",
      "23000\n",
      "24000\n",
      "25000\n",
      "26000\n",
      "27000\n",
      "28000\n",
      "29000\n",
      "30000\n",
      "31000\n",
      "32000\n",
      "33000\n",
      "34000\n",
      "35000\n",
      "36000\n",
      "37000\n",
      "38000\n",
      "39000\n",
      "40000\n",
      "41000\n",
      "42000\n",
      "43000\n",
      "44000\n",
      "45000\n",
      "46000\n",
      "47000\n",
      "48000\n",
      "49000\n",
      "50000\n",
      "0.013876290366606755\n",
      "Accuracy: 0.87648\n",
      "Time (minutes) elapsed for this cell: 30.938692168133276\n"
     ]
    },
    {
     "name": "stderr",
     "output_type": "stream",
     "text": [
      "/opt/tljh/user/lib/python3.7/site-packages/ipykernel_launcher.py:7: RuntimeWarning: invalid value encountered in true_divide\n",
      "  import sys\n"
     ]
    }
   ],
   "source": [
    "start_time = timeit.default_timer()\n",
    "\n",
    "weights1 = soft_SVM_training(X_train,\n",
    "                  y_train,\n",
    "                  1250,\n",
    "                  np.array(X_train.mean()),\n",
    "                  10**-5,\n",
    "                  0.0001,\n",
    "                  50000,\n",
    "                  1000)\n",
    "acc = Testing_soft_SVM(X_test,y_test,weights1)\n",
    "print(\"Accuracy:\",acc)\n",
    "elapsed = timeit.default_timer() - start_time\n",
    "print(\"Time (minutes) elapsed for this cell:\", elapsed/60)"
   ]
  },
  {
   "cell_type": "code",
   "execution_count": null,
   "metadata": {},
   "outputs": [],
   "source": []
  }
 ],
 "metadata": {
  "kernelspec": {
   "display_name": "Python 3",
   "language": "python",
   "name": "python3"
  },
  "language_info": {
   "codemirror_mode": {
    "name": "ipython",
    "version": 3
   },
   "file_extension": ".py",
   "mimetype": "text/x-python",
   "name": "python",
   "nbconvert_exporter": "python",
   "pygments_lexer": "ipython3",
   "version": "3.7.3"
  }
 },
 "nbformat": 4,
 "nbformat_minor": 4
}
