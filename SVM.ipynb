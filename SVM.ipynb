{
 "cells": [
  {
   "cell_type": "code",
   "execution_count": 1,
   "metadata": {},
   "outputs": [],
   "source": [
    "import pandas as pd\n",
    "import numpy as np\n",
    "import os\n",
    "import timeit\n"
   ]
  },
  {
   "cell_type": "markdown",
   "metadata": {},
   "source": [
    "# Building the Soft-SVM"
   ]
  },
  {
   "cell_type": "code",
   "execution_count": 2,
   "metadata": {},
   "outputs": [],
   "source": [
    "def gradient_comp(X,y,C,w0):\n",
    "    summands_of_X = X[X.dot(w0) * y <= 1]\n",
    "    summands_of_y = y[summands_of_X.index]\n",
    "    summands = -1*summands_of_X.multiply(summands_of_y,axis=0)\n",
    "    gradient = w0 + C*summands.sum()\n",
    "    return gradient"
   ]
  },
  {
   "cell_type": "code",
   "execution_count": 3,
   "metadata": {},
   "outputs": [],
   "source": [
    "def stochastic_gradient_comp(X,y,C,w0,batch):\n",
    "    Xsamp = X.sample(batch)\n",
    "    ysamp = y[Xsamp.index]\n",
    "    summands_of_X = Xsamp[Xsamp.dot(w0) * ysamp <= 1]\n",
    "    summands_of_y = ysamp[summands_of_X.index]\n",
    "    \n",
    "    summands = -1*summands_of_X.multiply(summands_of_y,axis=0)\n",
    "    gradient = w0 + C*(1/batch)*summands.sum()\n",
    "    return gradient"
   ]
  },
  {
   "cell_type": "code",
   "execution_count": 4,
   "metadata": {},
   "outputs": [],
   "source": [
    "def soft_SVM_training(X,y,C,w0,eps,lr,n,batch):\n",
    "    # X is training data\n",
    "    # y is labels\n",
    "    # C is penalty of how hard to be\n",
    "    # w is initial weights vector (np.array)\n",
    "    # eps is convergence criterion\n",
    "    # lr is learning rate\n",
    "    # n is the number of iterations\n",
    "    # batch is the subset size of X, if None then the entire data set will be used\n",
    "    \n",
    "    # Computing gradient of L\n",
    "    i = 0\n",
    "    gradw = None\n",
    "    if batch == None:\n",
    "        gradw = gradient_comp(X,y,C,w0)\n",
    "    else:\n",
    "        gradw = stochastic_gradient_comp(X,y,C,w0,batch)\n",
    "    w1 = w0 - lr*gradw\n",
    "    while(np.linalg.norm(w0-w1) > eps):\n",
    "        w0 = w1\n",
    "        gradw = None\n",
    "        if batch == None:\n",
    "            gradw = gradient_comp(X,y,C,w0)\n",
    "        else:\n",
    "            gradw = stochastic_gradient_comp(X,y,C,w0,batch)\n",
    "        w1 = w0 - lr*gradw\n",
    "        i = i + 1\n",
    "        if i == n:\n",
    "            break\n",
    "\n",
    "    print(\"w_n - w_(n-1):\", np.linalg.norm(w0-w1))\n",
    "    return w1"
   ]
  },
  {
   "cell_type": "code",
   "execution_count": 5,
   "metadata": {},
   "outputs": [],
   "source": [
    "def Testing_soft_SVM(X,y,w):\n",
    "    # X is the X_test set (in the form of the training set). There should\n",
    "    # be a column of ones at the same spot as there is in the training.\n",
    "    # y is the y_test actual values\n",
    "    # w is the out put weights from the soft_SVM_training\n",
    "    vals = X.values.dot(w)\n",
    "    predictions = pd.Series((vals/abs(vals)).astype(int))\n",
    "    TP = sum(y[(predictions[(predictions > 0)].index)] > 0)\n",
    "    TN = sum(y[predictions[(predictions < 0)].index] < 0)\n",
    "    FP = sum(y[predictions[(predictions > 0)].index] < 0)\n",
    "    FN = sum(y[predictions[(predictions < 0)].index] > 0)\n",
    "\n",
    "    accuracy = (TP+TN)/(TP+TN+FP+FN)\n",
    "\n",
    "    return accuracy\n",
    "    "
   ]
  },
  {
   "cell_type": "code",
   "execution_count": 6,
   "metadata": {},
   "outputs": [],
   "source": [
    "def produce_confusion_matrix(y_pred, y_test):\n",
    "    res = pd.DataFrame({\"Prediction\": y_pred, \"Actual\": y_test})\n",
    "\n",
    "    res_positives = res[res[\"Actual\"] == 1]\n",
    "    res_negatives = res[res[\"Actual\"] == -1]\n",
    "\n",
    "    positives_dict = dict(res_positives[\"Prediction\"].value_counts())\n",
    "    TPs = positives_dict[1]\n",
    "    FNs = positives_dict[-1]\n",
    "\n",
    "    negatives_dict = dict(res_negatives[\"Prediction\"].value_counts())\n",
    "    TNs = negatives_dict[-1]\n",
    "    FPs = negatives_dict[1]\n",
    "\n",
    "    positives = pd.Series([TPs, FNs])\n",
    "    negatives = pd.Series([FPs, TNs])\n",
    "\n",
    "    confusion_matrix = pd.DataFrame({\"Actually Positive\": positives, \"Actually Negative\": negatives})\n",
    "    confusion_matrix.rename({0: \"Prediced Positive\", 1: \"Predicted Negative\"}, inplace=True)\n",
    "    return confusion_matrix"
   ]
  },
  {
   "cell_type": "markdown",
   "metadata": {},
   "source": [
    "# Stanford Given Features"
   ]
  },
  {
   "cell_type": "code",
   "execution_count": 7,
   "metadata": {},
   "outputs": [],
   "source": [
    "training = pd.read_csv(\"standford_train.csv\").drop([\"Unnamed: 0\"],axis=1)\n",
    "testing = pd.read_csv(\"stanford_test.csv\").drop([\"Unnamed: 0\"],axis=1)"
   ]
  },
  {
   "cell_type": "code",
   "execution_count": 8,
   "metadata": {},
   "outputs": [],
   "source": [
    "X_train = training.drop(\"Label\",axis=1)\n",
    "X_train[\"ones\"] = [1]*len(X_train)\n",
    "y_train = training[\"Label\"]"
   ]
  },
  {
   "cell_type": "code",
   "execution_count": 9,
   "metadata": {},
   "outputs": [],
   "source": [
    "X_test = testing.drop(\"Label\",axis=1)\n",
    "X_test[\"ones\"] = [1]*len(X_test)\n",
    "y_test = testing[\"Label\"]"
   ]
  },
  {
   "cell_type": "code",
   "execution_count": 10,
   "metadata": {},
   "outputs": [
    {
     "name": "stdout",
     "output_type": "stream",
     "text": [
      "w_n - w_(n-1): 0.0032790716895529284\n",
      "w_n - w_(n-1): 0.03629289947973378\n",
      "w_n - w_(n-1): 0.11150377725292984\n",
      "Time (minutes) elapsed for this cell: 3.494750034916797\n"
     ]
    }
   ],
   "source": [
    "start_time = timeit.default_timer()\n",
    "Cs = [1,30,100]\n",
    "accs = []\n",
    "times = []\n",
    "weights = []\n",
    "for c in Cs:\n",
    "    w = soft_SVM_training(X_train,\n",
    "                      y_train,\n",
    "                      c,\n",
    "                      np.array(X_train.mean()),\n",
    "                      10**-6,\n",
    "                      0.001,\n",
    "                      200,\n",
    "                      128)\n",
    "    acc = Testing_soft_SVM(X_test,y_test,w)\n",
    "    accs.append(acc)\n",
    "    times.append(timeit.default_timer() - start_time)\n",
    "    weights.append(w)\n",
    "elapsed = timeit.default_timer() - start_time\n",
    "print(\"Time (minutes) elapsed for this cell:\", elapsed/60)"
   ]
  },
  {
   "cell_type": "code",
   "execution_count": 11,
   "metadata": {},
   "outputs": [
    {
     "data": {
      "text/html": [
       "<div>\n",
       "<style scoped>\n",
       "    .dataframe tbody tr th:only-of-type {\n",
       "        vertical-align: middle;\n",
       "    }\n",
       "\n",
       "    .dataframe tbody tr th {\n",
       "        vertical-align: top;\n",
       "    }\n",
       "\n",
       "    .dataframe thead th {\n",
       "        text-align: right;\n",
       "    }\n",
       "</style>\n",
       "<table border=\"1\" class=\"dataframe\">\n",
       "  <thead>\n",
       "    <tr style=\"text-align: right;\">\n",
       "      <th></th>\n",
       "      <th>C</th>\n",
       "      <th>Accuracy</th>\n",
       "      <th>Time</th>\n",
       "    </tr>\n",
       "  </thead>\n",
       "  <tbody>\n",
       "    <tr>\n",
       "      <th>0</th>\n",
       "      <td>1</td>\n",
       "      <td>0.50000</td>\n",
       "      <td>69.781867</td>\n",
       "    </tr>\n",
       "    <tr>\n",
       "      <th>1</th>\n",
       "      <td>30</td>\n",
       "      <td>0.70908</td>\n",
       "      <td>139.660258</td>\n",
       "    </tr>\n",
       "    <tr>\n",
       "      <th>2</th>\n",
       "      <td>100</td>\n",
       "      <td>0.70792</td>\n",
       "      <td>209.684883</td>\n",
       "    </tr>\n",
       "  </tbody>\n",
       "</table>\n",
       "</div>"
      ],
      "text/plain": [
       "     C  Accuracy        Time\n",
       "0    1   0.50000   69.781867\n",
       "1   30   0.70908  139.660258\n",
       "2  100   0.70792  209.684883"
      ]
     },
     "execution_count": 11,
     "metadata": {},
     "output_type": "execute_result"
    }
   ],
   "source": [
    "pd.DataFrame({\"C\":Cs,\"Accuracy\":accs,\"Time\":times})"
   ]
  },
  {
   "cell_type": "code",
   "execution_count": 12,
   "metadata": {},
   "outputs": [
    {
     "data": {
      "text/html": [
       "<div>\n",
       "<style scoped>\n",
       "    .dataframe tbody tr th:only-of-type {\n",
       "        vertical-align: middle;\n",
       "    }\n",
       "\n",
       "    .dataframe tbody tr th {\n",
       "        vertical-align: top;\n",
       "    }\n",
       "\n",
       "    .dataframe thead th {\n",
       "        text-align: right;\n",
       "    }\n",
       "</style>\n",
       "<table border=\"1\" class=\"dataframe\">\n",
       "  <thead>\n",
       "    <tr style=\"text-align: right;\">\n",
       "      <th></th>\n",
       "      <th>Actually Positive</th>\n",
       "      <th>Actually Negative</th>\n",
       "    </tr>\n",
       "  </thead>\n",
       "  <tbody>\n",
       "    <tr>\n",
       "      <th>Prediced Positive</th>\n",
       "      <td>9795</td>\n",
       "      <td>4568</td>\n",
       "    </tr>\n",
       "    <tr>\n",
       "      <th>Predicted Negative</th>\n",
       "      <td>2705</td>\n",
       "      <td>7932</td>\n",
       "    </tr>\n",
       "  </tbody>\n",
       "</table>\n",
       "</div>"
      ],
      "text/plain": [
       "                    Actually Positive  Actually Negative\n",
       "Prediced Positive                9795               4568\n",
       "Predicted Negative               2705               7932"
      ]
     },
     "execution_count": 12,
     "metadata": {},
     "output_type": "execute_result"
    }
   ],
   "source": [
    "maximum = accs.index(max(accs))\n",
    "vals = X_test.values.dot(weights[maximum])\n",
    "predictions = pd.Series((vals/abs(vals)).astype(int))\n",
    "confusion_matrix = produce_confusion_matrix(predictions, y_test)\n",
    "confusion_matrix"
   ]
  },
  {
   "cell_type": "markdown",
   "metadata": {},
   "source": [
    "# Train and Test (Feature Set #1)"
   ]
  },
  {
   "cell_type": "code",
   "execution_count": 7,
   "metadata": {},
   "outputs": [],
   "source": [
    "df_train = pd.read_csv(\"train1.csv\").drop(\"Unnamed: 0\",axis=1)\n",
    "df_test = pd.read_csv(\"test1.csv\").drop(\"Unnamed: 0\",axis=1)\n",
    "\n",
    "X_train = df_train.drop(\"Label\", axis=1)\n",
    "y_train = df_train[\"Label\"]\n",
    "X_test = df_test.drop(\"Label\", axis=1)\n",
    "y_test = df_test[\"Label\"]"
   ]
  },
  {
   "cell_type": "code",
   "execution_count": 8,
   "metadata": {},
   "outputs": [],
   "source": [
    "X_train_sd = (X_train - X_train.mean())/(X_train.std())\n",
    "X_test_sd = (X_test - X_train.mean())/(X_train.std())\n",
    "\n",
    "X_train_sd[\"ones\"] = [1]*len(y_train)\n",
    "X_test_sd[\"ones\"] = [1]*len(y_test)"
   ]
  },
  {
   "cell_type": "code",
   "execution_count": 15,
   "metadata": {},
   "outputs": [
    {
     "name": "stdout",
     "output_type": "stream",
     "text": [
      "w_n - w_(n-1): 0.0011563902399523143\n",
      "Accuracy: 0.72972\n",
      "Time (minutes) elapsed for this cell: 0.5540998834330821\n"
     ]
    }
   ],
   "source": [
    "# C = 25\n",
    "start_time = timeit.default_timer()\n",
    "\n",
    "weight_sd1 = soft_SVM_training(X_train_sd,\n",
    "                  y_train,\n",
    "                  25,\n",
    "                  np.array(X_train_sd.mean()),\n",
    "                  10**-6,\n",
    "                  0.001,\n",
    "                  10000,\n",
    "                  1000)\n",
    "acc = Testing_soft_SVM(X_test_sd,y_test,weight_sd1)\n",
    "print(\"Accuracy:\",acc)\n",
    "elapsed = timeit.default_timer() - start_time\n",
    "print(\"Time (minutes) elapsed for this cell:\", elapsed/60)"
   ]
  },
  {
   "cell_type": "code",
   "execution_count": 17,
   "metadata": {},
   "outputs": [
    {
     "data": {
      "text/html": [
       "<div>\n",
       "<style scoped>\n",
       "    .dataframe tbody tr th:only-of-type {\n",
       "        vertical-align: middle;\n",
       "    }\n",
       "\n",
       "    .dataframe tbody tr th {\n",
       "        vertical-align: top;\n",
       "    }\n",
       "\n",
       "    .dataframe thead th {\n",
       "        text-align: right;\n",
       "    }\n",
       "</style>\n",
       "<table border=\"1\" class=\"dataframe\">\n",
       "  <thead>\n",
       "    <tr style=\"text-align: right;\">\n",
       "      <th></th>\n",
       "      <th>Actually Positive</th>\n",
       "      <th>Actually Negative</th>\n",
       "    </tr>\n",
       "  </thead>\n",
       "  <tbody>\n",
       "    <tr>\n",
       "      <th>Prediced Positive</th>\n",
       "      <td>8865</td>\n",
       "      <td>3122</td>\n",
       "    </tr>\n",
       "    <tr>\n",
       "      <th>Predicted Negative</th>\n",
       "      <td>3635</td>\n",
       "      <td>9378</td>\n",
       "    </tr>\n",
       "  </tbody>\n",
       "</table>\n",
       "</div>"
      ],
      "text/plain": [
       "                    Actually Positive  Actually Negative\n",
       "Prediced Positive                8865               3122\n",
       "Predicted Negative               3635               9378"
      ]
     },
     "execution_count": 17,
     "metadata": {},
     "output_type": "execute_result"
    }
   ],
   "source": [
    "vals = X_test_sd.values.dot(weight_sd1)\n",
    "predictions = pd.Series((vals/abs(vals)).astype(int))\n",
    "confusion_matrix = produce_confusion_matrix(predictions, y_test)\n",
    "confusion_matrix"
   ]
  },
  {
   "cell_type": "code",
   "execution_count": 18,
   "metadata": {},
   "outputs": [
    {
     "name": "stdout",
     "output_type": "stream",
     "text": [
      "w_n - w_(n-1): 0.008085770550217664\n",
      "Accuracy: 0.73064\n",
      "Time (minutes) elapsed for this cell: 0.5540432112500032\n"
     ]
    }
   ],
   "source": [
    "# C = 150\n",
    "start_time = timeit.default_timer()\n",
    "\n",
    "weight_sd1 = soft_SVM_training(X_train_sd,\n",
    "                  y_train,\n",
    "                  150,\n",
    "                  np.array(X_train_sd.mean()),\n",
    "                  10**-6,\n",
    "                  0.001,\n",
    "                  10000,\n",
    "                  1000)\n",
    "acc = Testing_soft_SVM(X_test_sd,y_test,weight_sd1)\n",
    "print(\"Accuracy:\",acc)\n",
    "elapsed = timeit.default_timer() - start_time\n",
    "print(\"Time (minutes) elapsed for this cell:\", elapsed/60)"
   ]
  },
  {
   "cell_type": "code",
   "execution_count": 20,
   "metadata": {},
   "outputs": [
    {
     "data": {
      "text/html": [
       "<div>\n",
       "<style scoped>\n",
       "    .dataframe tbody tr th:only-of-type {\n",
       "        vertical-align: middle;\n",
       "    }\n",
       "\n",
       "    .dataframe tbody tr th {\n",
       "        vertical-align: top;\n",
       "    }\n",
       "\n",
       "    .dataframe thead th {\n",
       "        text-align: right;\n",
       "    }\n",
       "</style>\n",
       "<table border=\"1\" class=\"dataframe\">\n",
       "  <thead>\n",
       "    <tr style=\"text-align: right;\">\n",
       "      <th></th>\n",
       "      <th>Actually Positive</th>\n",
       "      <th>Actually Negative</th>\n",
       "    </tr>\n",
       "  </thead>\n",
       "  <tbody>\n",
       "    <tr>\n",
       "      <th>Prediced Positive</th>\n",
       "      <td>8982</td>\n",
       "      <td>3216</td>\n",
       "    </tr>\n",
       "    <tr>\n",
       "      <th>Predicted Negative</th>\n",
       "      <td>3518</td>\n",
       "      <td>9284</td>\n",
       "    </tr>\n",
       "  </tbody>\n",
       "</table>\n",
       "</div>"
      ],
      "text/plain": [
       "                    Actually Positive  Actually Negative\n",
       "Prediced Positive                8982               3216\n",
       "Predicted Negative               3518               9284"
      ]
     },
     "execution_count": 20,
     "metadata": {},
     "output_type": "execute_result"
    }
   ],
   "source": [
    "vals = X_test_sd.values.dot(weight_sd1)\n",
    "predictions = pd.Series((vals/abs(vals)).astype(int))\n",
    "confusion_matrix = produce_confusion_matrix(predictions, y_test)\n",
    "confusion_matrix"
   ]
  },
  {
   "cell_type": "code",
   "execution_count": 21,
   "metadata": {},
   "outputs": [
    {
     "name": "stdout",
     "output_type": "stream",
     "text": [
      "w_n - w_(n-1): 7.051699602911189e-05\n",
      "Accuracy: 0.7274\n",
      "Time (minutes) elapsed for this cell: 0.5563155916834754\n"
     ]
    }
   ],
   "source": [
    "# C = 1\n",
    "start_time = timeit.default_timer()\n",
    "\n",
    "weight_sd1 = soft_SVM_training(X_train_sd,\n",
    "                  y_train,\n",
    "                  1,\n",
    "                  np.array(X_train_sd.mean()),\n",
    "                  10**-6,\n",
    "                  0.001,\n",
    "                  10000,\n",
    "                  1000)\n",
    "acc = Testing_soft_SVM(X_test_sd,y_test,weight_sd1)\n",
    "print(\"Accuracy:\",acc)\n",
    "elapsed = timeit.default_timer() - start_time\n",
    "print(\"Time (minutes) elapsed for this cell:\", elapsed/60)"
   ]
  },
  {
   "cell_type": "code",
   "execution_count": 22,
   "metadata": {},
   "outputs": [
    {
     "data": {
      "text/html": [
       "<div>\n",
       "<style scoped>\n",
       "    .dataframe tbody tr th:only-of-type {\n",
       "        vertical-align: middle;\n",
       "    }\n",
       "\n",
       "    .dataframe tbody tr th {\n",
       "        vertical-align: top;\n",
       "    }\n",
       "\n",
       "    .dataframe thead th {\n",
       "        text-align: right;\n",
       "    }\n",
       "</style>\n",
       "<table border=\"1\" class=\"dataframe\">\n",
       "  <thead>\n",
       "    <tr style=\"text-align: right;\">\n",
       "      <th></th>\n",
       "      <th>Actually Positive</th>\n",
       "      <th>Actually Negative</th>\n",
       "    </tr>\n",
       "  </thead>\n",
       "  <tbody>\n",
       "    <tr>\n",
       "      <th>Prediced Positive</th>\n",
       "      <td>8730</td>\n",
       "      <td>3045</td>\n",
       "    </tr>\n",
       "    <tr>\n",
       "      <th>Predicted Negative</th>\n",
       "      <td>3770</td>\n",
       "      <td>9455</td>\n",
       "    </tr>\n",
       "  </tbody>\n",
       "</table>\n",
       "</div>"
      ],
      "text/plain": [
       "                    Actually Positive  Actually Negative\n",
       "Prediced Positive                8730               3045\n",
       "Predicted Negative               3770               9455"
      ]
     },
     "execution_count": 22,
     "metadata": {},
     "output_type": "execute_result"
    }
   ],
   "source": [
    "vals = X_test_sd.values.dot(weight_sd1)\n",
    "predictions = pd.Series((vals/abs(vals)).astype(int))\n",
    "confusion_matrix = produce_confusion_matrix(predictions, y_test)\n",
    "confusion_matrix"
   ]
  },
  {
   "cell_type": "code",
   "execution_count": 23,
   "metadata": {},
   "outputs": [
    {
     "name": "stdout",
     "output_type": "stream",
     "text": [
      "w_n - w_(n-1): 0.047609054645475345\n",
      "Accuracy: 0.73264\n",
      "Time (minutes) elapsed for this cell: 0.5543792904834846\n"
     ]
    }
   ],
   "source": [
    "# C = 1000\n",
    "start_time = timeit.default_timer()\n",
    "\n",
    "weight_sd1 = soft_SVM_training(X_train_sd,\n",
    "                  y_train,\n",
    "                  1000,\n",
    "                  np.array(X_train_sd.mean()),\n",
    "                  10**-6,\n",
    "                  0.001,\n",
    "                  10000,\n",
    "                  1000)\n",
    "acc = Testing_soft_SVM(X_test_sd,y_test,weight_sd1)\n",
    "print(\"Accuracy:\",acc)\n",
    "elapsed = timeit.default_timer() - start_time\n",
    "print(\"Time (minutes) elapsed for this cell:\", elapsed/60)"
   ]
  },
  {
   "cell_type": "code",
   "execution_count": 24,
   "metadata": {},
   "outputs": [
    {
     "data": {
      "text/html": [
       "<div>\n",
       "<style scoped>\n",
       "    .dataframe tbody tr th:only-of-type {\n",
       "        vertical-align: middle;\n",
       "    }\n",
       "\n",
       "    .dataframe tbody tr th {\n",
       "        vertical-align: top;\n",
       "    }\n",
       "\n",
       "    .dataframe thead th {\n",
       "        text-align: right;\n",
       "    }\n",
       "</style>\n",
       "<table border=\"1\" class=\"dataframe\">\n",
       "  <thead>\n",
       "    <tr style=\"text-align: right;\">\n",
       "      <th></th>\n",
       "      <th>Actually Positive</th>\n",
       "      <th>Actually Negative</th>\n",
       "    </tr>\n",
       "  </thead>\n",
       "  <tbody>\n",
       "    <tr>\n",
       "      <th>Prediced Positive</th>\n",
       "      <td>9086</td>\n",
       "      <td>3270</td>\n",
       "    </tr>\n",
       "    <tr>\n",
       "      <th>Predicted Negative</th>\n",
       "      <td>3414</td>\n",
       "      <td>9230</td>\n",
       "    </tr>\n",
       "  </tbody>\n",
       "</table>\n",
       "</div>"
      ],
      "text/plain": [
       "                    Actually Positive  Actually Negative\n",
       "Prediced Positive                9086               3270\n",
       "Predicted Negative               3414               9230"
      ]
     },
     "execution_count": 24,
     "metadata": {},
     "output_type": "execute_result"
    }
   ],
   "source": [
    "vals = X_test_sd.values.dot(weight_sd1)\n",
    "predictions = pd.Series((vals/abs(vals)).astype(int))\n",
    "confusion_matrix = produce_confusion_matrix(predictions, y_test)\n",
    "confusion_matrix"
   ]
  },
  {
   "cell_type": "code",
   "execution_count": 25,
   "metadata": {},
   "outputs": [
    {
     "name": "stdout",
     "output_type": "stream",
     "text": [
      "w_n - w_(n-1): 0.012709766177085106\n",
      "Accuracy: 0.7298\n",
      "Time (minutes) elapsed for this cell: 1.108603431083126\n"
     ]
    }
   ],
   "source": [
    "# C = 10000\n",
    "start_time = timeit.default_timer()\n",
    "\n",
    "weight_sd1 = soft_SVM_training(X_train_sd,\n",
    "                  y_train,\n",
    "                  10000,\n",
    "                  np.array(X_train_sd.mean()),\n",
    "                  10**-6,\n",
    "                  0.0001,\n",
    "                  20000,\n",
    "                  1000)\n",
    "acc = Testing_soft_SVM(X_test_sd,y_test,weight_sd1)\n",
    "print(\"Accuracy:\",acc)\n",
    "elapsed = timeit.default_timer() - start_time\n",
    "print(\"Time (minutes) elapsed for this cell:\", elapsed/60)"
   ]
  },
  {
   "cell_type": "code",
   "execution_count": 26,
   "metadata": {},
   "outputs": [
    {
     "data": {
      "text/html": [
       "<div>\n",
       "<style scoped>\n",
       "    .dataframe tbody tr th:only-of-type {\n",
       "        vertical-align: middle;\n",
       "    }\n",
       "\n",
       "    .dataframe tbody tr th {\n",
       "        vertical-align: top;\n",
       "    }\n",
       "\n",
       "    .dataframe thead th {\n",
       "        text-align: right;\n",
       "    }\n",
       "</style>\n",
       "<table border=\"1\" class=\"dataframe\">\n",
       "  <thead>\n",
       "    <tr style=\"text-align: right;\">\n",
       "      <th></th>\n",
       "      <th>Actually Positive</th>\n",
       "      <th>Actually Negative</th>\n",
       "    </tr>\n",
       "  </thead>\n",
       "  <tbody>\n",
       "    <tr>\n",
       "      <th>Prediced Positive</th>\n",
       "      <td>8844</td>\n",
       "      <td>3099</td>\n",
       "    </tr>\n",
       "    <tr>\n",
       "      <th>Predicted Negative</th>\n",
       "      <td>3656</td>\n",
       "      <td>9401</td>\n",
       "    </tr>\n",
       "  </tbody>\n",
       "</table>\n",
       "</div>"
      ],
      "text/plain": [
       "                    Actually Positive  Actually Negative\n",
       "Prediced Positive                8844               3099\n",
       "Predicted Negative               3656               9401"
      ]
     },
     "execution_count": 26,
     "metadata": {},
     "output_type": "execute_result"
    }
   ],
   "source": [
    "vals = X_test_sd.values.dot(weight_sd1)\n",
    "predictions = pd.Series((vals/abs(vals)).astype(int))\n",
    "confusion_matrix = produce_confusion_matrix(predictions, y_test)\n",
    "confusion_matrix"
   ]
  },
  {
   "cell_type": "markdown",
   "metadata": {},
   "source": [
    "## Adding Interactions"
   ]
  },
  {
   "cell_type": "code",
   "execution_count": 9,
   "metadata": {},
   "outputs": [],
   "source": [
    "X_train2 = X_train.copy()\n",
    "X_test2 = X_test.copy()\n",
    "y_train2 = y_train.copy()\n",
    "y_test2 = y_test.copy()"
   ]
  },
  {
   "cell_type": "code",
   "execution_count": 10,
   "metadata": {},
   "outputs": [],
   "source": [
    "X_train2[\"Interaction_posc_negc\"] = X_train2.Positive_counts*X_train2.Negative_counts\n",
    "X_test2[\"Interaction_posc_negc\"] = X_test2.Positive_counts*X_test2.Negative_counts\n",
    "X_train_sd2 = (X_train2 - X_train2.mean())/(X_train2.std())\n",
    "X_test_sd2 = (X_test2 - X_train2.mean())/(X_train2.std())\n",
    "\n",
    "X_train_sd2[\"ones\"] = [1]*len(y_train)\n",
    "X_test_sd2[\"ones\"] = [1]*len(y_test)"
   ]
  },
  {
   "cell_type": "code",
   "execution_count": 29,
   "metadata": {},
   "outputs": [
    {
     "name": "stdout",
     "output_type": "stream",
     "text": [
      "w_n - w_(n-1): 0.0006156863923824839\n",
      "Accuracy: 0.73452\n",
      "Time (minutes) elapsed for this cell: 0.5665323058667127\n"
     ]
    }
   ],
   "source": [
    "\n",
    "start_time = timeit.default_timer()\n",
    "\n",
    "weight_sd2 = soft_SVM_training(X_train_sd2,\n",
    "                  y_train,\n",
    "                  150,\n",
    "                  np.array(X_train_sd2.mean()),\n",
    "                  10**-6,\n",
    "                  0.0001,\n",
    "                  10000,\n",
    "                  1000)\n",
    "acc = Testing_soft_SVM(X_test_sd2,y_test,weight_sd2)\n",
    "print(\"Accuracy:\",acc)\n",
    "elapsed = timeit.default_timer() - start_time\n",
    "print(\"Time (minutes) elapsed for this cell:\", elapsed/60)"
   ]
  },
  {
   "cell_type": "code",
   "execution_count": 31,
   "metadata": {},
   "outputs": [
    {
     "data": {
      "text/html": [
       "<div>\n",
       "<style scoped>\n",
       "    .dataframe tbody tr th:only-of-type {\n",
       "        vertical-align: middle;\n",
       "    }\n",
       "\n",
       "    .dataframe tbody tr th {\n",
       "        vertical-align: top;\n",
       "    }\n",
       "\n",
       "    .dataframe thead th {\n",
       "        text-align: right;\n",
       "    }\n",
       "</style>\n",
       "<table border=\"1\" class=\"dataframe\">\n",
       "  <thead>\n",
       "    <tr style=\"text-align: right;\">\n",
       "      <th></th>\n",
       "      <th>Actually Positive</th>\n",
       "      <th>Actually Negative</th>\n",
       "    </tr>\n",
       "  </thead>\n",
       "  <tbody>\n",
       "    <tr>\n",
       "      <th>Prediced Positive</th>\n",
       "      <td>9171</td>\n",
       "      <td>3308</td>\n",
       "    </tr>\n",
       "    <tr>\n",
       "      <th>Predicted Negative</th>\n",
       "      <td>3329</td>\n",
       "      <td>9192</td>\n",
       "    </tr>\n",
       "  </tbody>\n",
       "</table>\n",
       "</div>"
      ],
      "text/plain": [
       "                    Actually Positive  Actually Negative\n",
       "Prediced Positive                9171               3308\n",
       "Predicted Negative               3329               9192"
      ]
     },
     "execution_count": 31,
     "metadata": {},
     "output_type": "execute_result"
    }
   ],
   "source": [
    "vals = X_test_sd2.values.dot(weight_sd2)\n",
    "predictions = pd.Series((vals/abs(vals)).astype(int))\n",
    "confusion_matrix = produce_confusion_matrix(predictions, y_test)\n",
    "confusion_matrix"
   ]
  },
  {
   "cell_type": "markdown",
   "metadata": {},
   "source": [
    "# Squaring Terms"
   ]
  },
  {
   "cell_type": "code",
   "execution_count": 11,
   "metadata": {},
   "outputs": [],
   "source": [
    "X_train3 = X_train2.copy()\n",
    "X_test3 = X_test2.copy()\n",
    "y_train3 = y_train2.copy()\n",
    "y_test3 = y_test2.copy()"
   ]
  },
  {
   "cell_type": "code",
   "execution_count": 12,
   "metadata": {},
   "outputs": [],
   "source": [
    "X_train3[\"Positive_counts2\"] = X_train3.Positive_counts**2\n",
    "X_train3[\"Negative_counts2\"] = X_train3.Negative_counts**2\n",
    "X_test3[\"Positive_counts2\"] = X_test3.Positive_counts**2\n",
    "X_test3[\"Negative_counts2\"] = X_test3.Negative_counts**2\n",
    "X_train_sd3 = (X_train3 - X_train3.mean())/(X_train3.std())\n",
    "X_test_sd3 = (X_test3 - X_train3.mean())/(X_train3.std())\n",
    "\n",
    "X_train_sd3[\"ones\"] = [1]*len(y_train)\n",
    "X_test_sd3[\"ones\"] = [1]*len(y_test)"
   ]
  },
  {
   "cell_type": "code",
   "execution_count": 34,
   "metadata": {},
   "outputs": [
    {
     "name": "stdout",
     "output_type": "stream",
     "text": [
      "w_n - w_(n-1): 0.00043466258031655023\n",
      "Accuracy: 0.7352\n",
      "Time (minutes) elapsed for this cell: 0.5987629729667484\n"
     ]
    }
   ],
   "source": [
    "start_time = timeit.default_timer()\n",
    "\n",
    "weight_sd3 = soft_SVM_training(X_train_sd3,\n",
    "                  y_train,\n",
    "                  150,\n",
    "                  np.array(X_train_sd3.mean()),\n",
    "                  10**-6,\n",
    "                  0.0001,\n",
    "                  10000,\n",
    "                  1000)\n",
    "acc = Testing_soft_SVM(X_test_sd3,y_test,weight_sd3)\n",
    "print(\"Accuracy:\",acc)\n",
    "elapsed = timeit.default_timer() - start_time\n",
    "print(\"Time (minutes) elapsed for this cell:\", elapsed/60)"
   ]
  },
  {
   "cell_type": "code",
   "execution_count": 35,
   "metadata": {},
   "outputs": [
    {
     "data": {
      "text/html": [
       "<div>\n",
       "<style scoped>\n",
       "    .dataframe tbody tr th:only-of-type {\n",
       "        vertical-align: middle;\n",
       "    }\n",
       "\n",
       "    .dataframe tbody tr th {\n",
       "        vertical-align: top;\n",
       "    }\n",
       "\n",
       "    .dataframe thead th {\n",
       "        text-align: right;\n",
       "    }\n",
       "</style>\n",
       "<table border=\"1\" class=\"dataframe\">\n",
       "  <thead>\n",
       "    <tr style=\"text-align: right;\">\n",
       "      <th></th>\n",
       "      <th>Actually Positive</th>\n",
       "      <th>Actually Negative</th>\n",
       "    </tr>\n",
       "  </thead>\n",
       "  <tbody>\n",
       "    <tr>\n",
       "      <th>Prediced Positive</th>\n",
       "      <td>9114</td>\n",
       "      <td>3234</td>\n",
       "    </tr>\n",
       "    <tr>\n",
       "      <th>Predicted Negative</th>\n",
       "      <td>3386</td>\n",
       "      <td>9266</td>\n",
       "    </tr>\n",
       "  </tbody>\n",
       "</table>\n",
       "</div>"
      ],
      "text/plain": [
       "                    Actually Positive  Actually Negative\n",
       "Prediced Positive                9114               3234\n",
       "Predicted Negative               3386               9266"
      ]
     },
     "execution_count": 35,
     "metadata": {},
     "output_type": "execute_result"
    }
   ],
   "source": [
    "vals = X_test_sd3.values.dot(weight_sd3)\n",
    "predictions = pd.Series((vals/abs(vals)).astype(int))\n",
    "confusion_matrix = produce_confusion_matrix(predictions, y_test)\n",
    "confusion_matrix"
   ]
  },
  {
   "cell_type": "markdown",
   "metadata": {},
   "source": [
    "# Cubing Terms"
   ]
  },
  {
   "cell_type": "code",
   "execution_count": 36,
   "metadata": {},
   "outputs": [],
   "source": [
    "X_train4 = X_train3.copy()\n",
    "X_test4 = X_test3.copy()\n",
    "y_train4 = y_train3.copy()\n",
    "y_test4 = y_test3.copy()"
   ]
  },
  {
   "cell_type": "code",
   "execution_count": 37,
   "metadata": {},
   "outputs": [],
   "source": [
    "X_train4[\"Positive_counts3\"] = X_train4.Positive_counts**3\n",
    "X_train4[\"Negative_counts3\"] = X_train4.Negative_counts**3\n",
    "X_test4[\"Positive_counts3\"] = X_test4.Positive_counts**3\n",
    "X_test4[\"Negative_counts3\"] = X_test4.Negative_counts**3\n",
    "X_train_sd4 = (X_train4 - X_train4.mean())/(X_train4.std())\n",
    "X_test_sd4 = (X_test4 - X_train4.mean())/(X_train4.std())\n",
    "\n",
    "X_train_sd4[\"ones\"] = [1]*len(y_train)\n",
    "X_test_sd4[\"ones\"] = [1]*len(y_test)"
   ]
  },
  {
   "cell_type": "code",
   "execution_count": 38,
   "metadata": {},
   "outputs": [
    {
     "name": "stdout",
     "output_type": "stream",
     "text": [
      "w_n - w_(n-1): 0.0010921768503837303\n",
      "Accuracy: 0.73484\n",
      "Time (minutes) elapsed for this cell: 0.6281452981163359\n"
     ]
    }
   ],
   "source": [
    "start_time = timeit.default_timer()\n",
    "\n",
    "weight_sd4 = soft_SVM_training(X_train_sd4,\n",
    "                  y_train,\n",
    "                  150,\n",
    "                  np.array(X_train_sd4.mean()),\n",
    "                  10**-6,\n",
    "                  0.0001,\n",
    "                  10000,\n",
    "                  1000)\n",
    "acc = Testing_soft_SVM(X_test_sd4,y_test,weight_sd4)\n",
    "print(\"Accuracy:\",acc)\n",
    "elapsed = timeit.default_timer() - start_time\n",
    "print(\"Time (minutes) elapsed for this cell:\", elapsed/60)"
   ]
  },
  {
   "cell_type": "code",
   "execution_count": 40,
   "metadata": {},
   "outputs": [
    {
     "data": {
      "text/html": [
       "<div>\n",
       "<style scoped>\n",
       "    .dataframe tbody tr th:only-of-type {\n",
       "        vertical-align: middle;\n",
       "    }\n",
       "\n",
       "    .dataframe tbody tr th {\n",
       "        vertical-align: top;\n",
       "    }\n",
       "\n",
       "    .dataframe thead th {\n",
       "        text-align: right;\n",
       "    }\n",
       "</style>\n",
       "<table border=\"1\" class=\"dataframe\">\n",
       "  <thead>\n",
       "    <tr style=\"text-align: right;\">\n",
       "      <th></th>\n",
       "      <th>Actually Positive</th>\n",
       "      <th>Actually Negative</th>\n",
       "    </tr>\n",
       "  </thead>\n",
       "  <tbody>\n",
       "    <tr>\n",
       "      <th>Prediced Positive</th>\n",
       "      <td>9110</td>\n",
       "      <td>3239</td>\n",
       "    </tr>\n",
       "    <tr>\n",
       "      <th>Predicted Negative</th>\n",
       "      <td>3390</td>\n",
       "      <td>9261</td>\n",
       "    </tr>\n",
       "  </tbody>\n",
       "</table>\n",
       "</div>"
      ],
      "text/plain": [
       "                    Actually Positive  Actually Negative\n",
       "Prediced Positive                9110               3239\n",
       "Predicted Negative               3390               9261"
      ]
     },
     "execution_count": 40,
     "metadata": {},
     "output_type": "execute_result"
    }
   ],
   "source": [
    "vals = X_test_sd4.values.dot(weight_sd4)\n",
    "predictions = pd.Series((vals/abs(vals)).astype(int))\n",
    "confusion_matrix = produce_confusion_matrix(predictions, y_test)\n",
    "confusion_matrix"
   ]
  },
  {
   "cell_type": "markdown",
   "metadata": {},
   "source": [
    "**Hardly any improvement adding polynomial terms**"
   ]
  },
  {
   "cell_type": "markdown",
   "metadata": {},
   "source": [
    "### Trying different values of C (using quadratic, because it has the best accuracy)"
   ]
  },
  {
   "cell_type": "code",
   "execution_count": 49,
   "metadata": {},
   "outputs": [
    {
     "name": "stdout",
     "output_type": "stream",
     "text": [
      "w_n - w_(n-1): 1.6725249419809327e-05\n",
      "w_n - w_(n-1): 1.3351537340869115e-05\n",
      "w_n - w_(n-1): 6.216604409153545e-05\n",
      "w_n - w_(n-1): 6.682480799257601e-05\n",
      "w_n - w_(n-1): 0.00021149042920293366\n",
      "w_n - w_(n-1): 0.0003785497423617887\n",
      "w_n - w_(n-1): 0.001958289691359827\n",
      "w_n - w_(n-1): 0.002825558128312623\n",
      "w_n - w_(n-1): 0.006589458081403636\n",
      "w_n - w_(n-1): 0.015574972627845803\n",
      "w_n - w_(n-1): 0.0027753611496224434\n",
      "Time (minutes) elapsed for this cell: 13.035402092133397\n"
     ]
    }
   ],
   "source": [
    "start_time = timeit.default_timer()\n",
    "Cs = [1,5,10,25,50,150,350,500,1000,1500,1750]\n",
    "accs = []\n",
    "times = []\n",
    "weights = []\n",
    "for c in Cs:\n",
    "    weight_sd3 = soft_SVM_training(X_train_sd3,\n",
    "                      y_train,\n",
    "                      c,\n",
    "                      np.array(X_train_sd3.mean()),\n",
    "                      10**-6,\n",
    "                      0.0001,\n",
    "                      20000,\n",
    "                      1000)\n",
    "    acc = Testing_soft_SVM(X_test_sd3,y_test,weight_sd3)\n",
    "    accs.append(acc)\n",
    "    times.append(timeit.default_timer() - start_time)\n",
    "    weights.append(weight_sd3)\n",
    "elapsed = timeit.default_timer() - start_time\n",
    "print(\"Time (minutes) elapsed for this cell:\", elapsed/60)"
   ]
  },
  {
   "cell_type": "code",
   "execution_count": 50,
   "metadata": {},
   "outputs": [
    {
     "data": {
      "text/html": [
       "<div>\n",
       "<style scoped>\n",
       "    .dataframe tbody tr th:only-of-type {\n",
       "        vertical-align: middle;\n",
       "    }\n",
       "\n",
       "    .dataframe tbody tr th {\n",
       "        vertical-align: top;\n",
       "    }\n",
       "\n",
       "    .dataframe thead th {\n",
       "        text-align: right;\n",
       "    }\n",
       "</style>\n",
       "<table border=\"1\" class=\"dataframe\">\n",
       "  <thead>\n",
       "    <tr style=\"text-align: right;\">\n",
       "      <th></th>\n",
       "      <th>C</th>\n",
       "      <th>Accuracy</th>\n",
       "      <th>Time (minutes)</th>\n",
       "    </tr>\n",
       "  </thead>\n",
       "  <tbody>\n",
       "    <tr>\n",
       "      <th>0</th>\n",
       "      <td>1</td>\n",
       "      <td>0.66720</td>\n",
       "      <td>72.127495</td>\n",
       "    </tr>\n",
       "    <tr>\n",
       "      <th>1</th>\n",
       "      <td>5</td>\n",
       "      <td>0.72984</td>\n",
       "      <td>144.054233</td>\n",
       "    </tr>\n",
       "    <tr>\n",
       "      <th>2</th>\n",
       "      <td>10</td>\n",
       "      <td>0.72976</td>\n",
       "      <td>215.800790</td>\n",
       "    </tr>\n",
       "    <tr>\n",
       "      <th>3</th>\n",
       "      <td>25</td>\n",
       "      <td>0.73060</td>\n",
       "      <td>287.084302</td>\n",
       "    </tr>\n",
       "    <tr>\n",
       "      <th>4</th>\n",
       "      <td>50</td>\n",
       "      <td>0.73280</td>\n",
       "      <td>357.944615</td>\n",
       "    </tr>\n",
       "    <tr>\n",
       "      <th>5</th>\n",
       "      <td>150</td>\n",
       "      <td>0.73520</td>\n",
       "      <td>428.556330</td>\n",
       "    </tr>\n",
       "    <tr>\n",
       "      <th>6</th>\n",
       "      <td>350</td>\n",
       "      <td>0.73468</td>\n",
       "      <td>499.126529</td>\n",
       "    </tr>\n",
       "    <tr>\n",
       "      <th>7</th>\n",
       "      <td>500</td>\n",
       "      <td>0.73472</td>\n",
       "      <td>569.774117</td>\n",
       "    </tr>\n",
       "    <tr>\n",
       "      <th>8</th>\n",
       "      <td>1000</td>\n",
       "      <td>0.73440</td>\n",
       "      <td>640.396868</td>\n",
       "    </tr>\n",
       "    <tr>\n",
       "      <th>9</th>\n",
       "      <td>1500</td>\n",
       "      <td>0.73476</td>\n",
       "      <td>711.363786</td>\n",
       "    </tr>\n",
       "    <tr>\n",
       "      <th>10</th>\n",
       "      <td>1750</td>\n",
       "      <td>0.73464</td>\n",
       "      <td>782.123995</td>\n",
       "    </tr>\n",
       "  </tbody>\n",
       "</table>\n",
       "</div>"
      ],
      "text/plain": [
       "       C  Accuracy  Time (minutes)\n",
       "0      1   0.66720       72.127495\n",
       "1      5   0.72984      144.054233\n",
       "2     10   0.72976      215.800790\n",
       "3     25   0.73060      287.084302\n",
       "4     50   0.73280      357.944615\n",
       "5    150   0.73520      428.556330\n",
       "6    350   0.73468      499.126529\n",
       "7    500   0.73472      569.774117\n",
       "8   1000   0.73440      640.396868\n",
       "9   1500   0.73476      711.363786\n",
       "10  1750   0.73464      782.123995"
      ]
     },
     "execution_count": 50,
     "metadata": {},
     "output_type": "execute_result"
    }
   ],
   "source": [
    "pd.DataFrame({\"C\":Cs,\"Accuracy\":accs,\"Time (minutes)\":times})"
   ]
  },
  {
   "cell_type": "code",
   "execution_count": 51,
   "metadata": {},
   "outputs": [
    {
     "data": {
      "text/html": [
       "<div>\n",
       "<style scoped>\n",
       "    .dataframe tbody tr th:only-of-type {\n",
       "        vertical-align: middle;\n",
       "    }\n",
       "\n",
       "    .dataframe tbody tr th {\n",
       "        vertical-align: top;\n",
       "    }\n",
       "\n",
       "    .dataframe thead th {\n",
       "        text-align: right;\n",
       "    }\n",
       "</style>\n",
       "<table border=\"1\" class=\"dataframe\">\n",
       "  <thead>\n",
       "    <tr style=\"text-align: right;\">\n",
       "      <th></th>\n",
       "      <th>Actually Positive</th>\n",
       "      <th>Actually Negative</th>\n",
       "    </tr>\n",
       "  </thead>\n",
       "  <tbody>\n",
       "    <tr>\n",
       "      <th>Prediced Positive</th>\n",
       "      <td>9108</td>\n",
       "      <td>3228</td>\n",
       "    </tr>\n",
       "    <tr>\n",
       "      <th>Predicted Negative</th>\n",
       "      <td>3392</td>\n",
       "      <td>9272</td>\n",
       "    </tr>\n",
       "  </tbody>\n",
       "</table>\n",
       "</div>"
      ],
      "text/plain": [
       "                    Actually Positive  Actually Negative\n",
       "Prediced Positive                9108               3228\n",
       "Predicted Negative               3392               9272"
      ]
     },
     "execution_count": 51,
     "metadata": {},
     "output_type": "execute_result"
    }
   ],
   "source": [
    "maximum = accs.index(max(accs))\n",
    "vals = X_test_sd3.values.dot(weights[maximum])\n",
    "predictions = pd.Series((vals/abs(vals)).astype(int))\n",
    "confusion_matrix = produce_confusion_matrix(predictions, y_test)\n",
    "confusion_matrix"
   ]
  },
  {
   "cell_type": "markdown",
   "metadata": {},
   "source": [
    "Had the same accuracy even when the difference in error between two sequential iterations was more than 100"
   ]
  },
  {
   "cell_type": "markdown",
   "metadata": {},
   "source": [
    "# Training and Test (Feature Test 2)"
   ]
  },
  {
   "cell_type": "code",
   "execution_count": 7,
   "metadata": {},
   "outputs": [
    {
     "name": "stdout",
     "output_type": "stream",
     "text": [
      "Time (minutes) elapsed for this cell: 0.4243882813830472\n"
     ]
    }
   ],
   "source": [
    "start_time = timeit.default_timer()\n",
    "\n",
    "df_train = pd.read_csv(\"train2.csv\").drop(\"Unnamed: 0\",axis=1)\n",
    "df_test = pd.read_csv(\"test2.csv\").drop(\"Unnamed: 0\",axis=1)\n",
    "\n",
    "elapsed = timeit.default_timer() - start_time\n",
    "print(\"Time (minutes) elapsed for this cell:\", elapsed/60)"
   ]
  },
  {
   "cell_type": "code",
   "execution_count": 8,
   "metadata": {},
   "outputs": [
    {
     "data": {
      "text/plain": [
       "1039"
      ]
     },
     "execution_count": 8,
     "metadata": {},
     "output_type": "execute_result"
    }
   ],
   "source": [
    "# remove columns that are too sparse, allows LDA to perform matrix algebra\n",
    "cols_to_drop = []\n",
    "df = df_train.drop(\"Label\", axis=1)\n",
    "for col in df:\n",
    "    num_vals = len(df) - df[col].value_counts()[0]\n",
    "    if num_vals < 3:\n",
    "        cols_to_drop.append(col)\n",
    "len(cols_to_drop)"
   ]
  },
  {
   "cell_type": "code",
   "execution_count": 9,
   "metadata": {},
   "outputs": [],
   "source": [
    "df_train.drop(cols_to_drop, axis=1, inplace=True)\n",
    "df_test.drop(cols_to_drop, axis=1, inplace=True)\n",
    "\n",
    "X_train = df_train.drop(\"Label\", axis=1)\n",
    "y_train = df_train[\"Label\"]\n",
    "X_test = df_test.drop(\"Label\", axis=1)\n",
    "y_test = df_test[\"Label\"]"
   ]
  },
  {
   "cell_type": "code",
   "execution_count": 10,
   "metadata": {},
   "outputs": [],
   "source": [
    "X_train[\"ones\"] = [1]*len(y_train)\n",
    "X_test[\"ones\"] = [1]*len(y_test)"
   ]
  },
  {
   "cell_type": "markdown",
   "metadata": {},
   "source": [
    "### SVM Classifier results"
   ]
  },
  {
   "cell_type": "code",
   "execution_count": 16,
   "metadata": {},
   "outputs": [
    {
     "name": "stdout",
     "output_type": "stream",
     "text": [
      "w_n - w_(n-1): 0.0057922527807800495\n",
      "Time (minutes) elapsed for this cell: 3.630121353699845\n"
     ]
    }
   ],
   "source": [
    "start_time = timeit.default_timer()\n",
    "\n",
    "w = soft_SVM_training(X_train,\n",
    "                      y_train,\n",
    "                      25,\n",
    "                      np.array(X_train.mean()),\n",
    "                      10**-6,\n",
    "                      0.001,\n",
    "                      5000,\n",
    "                      500)\n",
    "acc = Testing_soft_SVM(X_test,y_test,w)\n",
    "elapsed = timeit.default_timer() - start_time\n",
    "print(\"Time (minutes) elapsed for this cell:\", elapsed/60)"
   ]
  },
  {
   "cell_type": "code",
   "execution_count": 18,
   "metadata": {},
   "outputs": [
    {
     "name": "stdout",
     "output_type": "stream",
     "text": [
      "accuracy: 0.82748\n"
     ]
    }
   ],
   "source": [
    "print(\"accuracy:\", acc)"
   ]
  },
  {
   "cell_type": "code",
   "execution_count": 17,
   "metadata": {},
   "outputs": [
    {
     "data": {
      "text/html": [
       "<div>\n",
       "<style scoped>\n",
       "    .dataframe tbody tr th:only-of-type {\n",
       "        vertical-align: middle;\n",
       "    }\n",
       "\n",
       "    .dataframe tbody tr th {\n",
       "        vertical-align: top;\n",
       "    }\n",
       "\n",
       "    .dataframe thead th {\n",
       "        text-align: right;\n",
       "    }\n",
       "</style>\n",
       "<table border=\"1\" class=\"dataframe\">\n",
       "  <thead>\n",
       "    <tr style=\"text-align: right;\">\n",
       "      <th></th>\n",
       "      <th>Actually Positive</th>\n",
       "      <th>Actually Negative</th>\n",
       "    </tr>\n",
       "  </thead>\n",
       "  <tbody>\n",
       "    <tr>\n",
       "      <th>Prediced Positive</th>\n",
       "      <td>10781</td>\n",
       "      <td>2594</td>\n",
       "    </tr>\n",
       "    <tr>\n",
       "      <th>Predicted Negative</th>\n",
       "      <td>1719</td>\n",
       "      <td>9906</td>\n",
       "    </tr>\n",
       "  </tbody>\n",
       "</table>\n",
       "</div>"
      ],
      "text/plain": [
       "                    Actually Positive  Actually Negative\n",
       "Prediced Positive               10781               2594\n",
       "Predicted Negative               1719               9906"
      ]
     },
     "execution_count": 17,
     "metadata": {},
     "output_type": "execute_result"
    }
   ],
   "source": [
    "vals = X_test.values.dot(w)\n",
    "predictions = pd.Series((vals/abs(vals)).astype(int))\n",
    "confusion_matrix = produce_confusion_matrix(predictions, y_test)\n",
    "confusion_matrix"
   ]
  },
  {
   "cell_type": "code",
   "execution_count": 19,
   "metadata": {},
   "outputs": [
    {
     "name": "stdout",
     "output_type": "stream",
     "text": [
      "w_n - w_(n-1): 0.031873037480976765\n",
      "accuracy: 0.85988\n",
      "Time (minutes) elapsed for this cell: 3.5533360773998237\n"
     ]
    }
   ],
   "source": [
    "start_time = timeit.default_timer()\n",
    "\n",
    "w = soft_SVM_training(X_train,\n",
    "                      y_train,\n",
    "                      150,\n",
    "                      np.array(X_train.mean()),\n",
    "                      10**-6,\n",
    "                      0.001,\n",
    "                      5000,\n",
    "                      500)\n",
    "acc = Testing_soft_SVM(X_test,y_test,w)\n",
    "elapsed = timeit.default_timer() - start_time\n",
    "print(\"accuracy:\", acc)\n",
    "print(\"Time (minutes) elapsed for this cell:\", elapsed/60)"
   ]
  },
  {
   "cell_type": "code",
   "execution_count": 20,
   "metadata": {},
   "outputs": [
    {
     "data": {
      "text/html": [
       "<div>\n",
       "<style scoped>\n",
       "    .dataframe tbody tr th:only-of-type {\n",
       "        vertical-align: middle;\n",
       "    }\n",
       "\n",
       "    .dataframe tbody tr th {\n",
       "        vertical-align: top;\n",
       "    }\n",
       "\n",
       "    .dataframe thead th {\n",
       "        text-align: right;\n",
       "    }\n",
       "</style>\n",
       "<table border=\"1\" class=\"dataframe\">\n",
       "  <thead>\n",
       "    <tr style=\"text-align: right;\">\n",
       "      <th></th>\n",
       "      <th>Actually Positive</th>\n",
       "      <th>Actually Negative</th>\n",
       "    </tr>\n",
       "  </thead>\n",
       "  <tbody>\n",
       "    <tr>\n",
       "      <th>Prediced Positive</th>\n",
       "      <td>11059</td>\n",
       "      <td>2062</td>\n",
       "    </tr>\n",
       "    <tr>\n",
       "      <th>Predicted Negative</th>\n",
       "      <td>1441</td>\n",
       "      <td>10438</td>\n",
       "    </tr>\n",
       "  </tbody>\n",
       "</table>\n",
       "</div>"
      ],
      "text/plain": [
       "                    Actually Positive  Actually Negative\n",
       "Prediced Positive               11059               2062\n",
       "Predicted Negative               1441              10438"
      ]
     },
     "execution_count": 20,
     "metadata": {},
     "output_type": "execute_result"
    }
   ],
   "source": [
    "vals = X_test.values.dot(w)\n",
    "predictions = pd.Series((vals/abs(vals)).astype(int))\n",
    "confusion_matrix = produce_confusion_matrix(predictions, y_test)\n",
    "confusion_matrix"
   ]
  },
  {
   "cell_type": "code",
   "execution_count": 21,
   "metadata": {},
   "outputs": [
    {
     "name": "stdout",
     "output_type": "stream",
     "text": [
      "w_n - w_(n-1): 0.08510358954530906\n",
      "accuracy: 0.87396\n",
      "Time (minutes) elapsed for this cell: 3.5169638187498395\n"
     ]
    }
   ],
   "source": [
    "start_time = timeit.default_timer()\n",
    "\n",
    "w = soft_SVM_training(X_train,\n",
    "                      y_train,\n",
    "                      500,\n",
    "                      np.array(X_train.mean()),\n",
    "                      10**-6,\n",
    "                      0.001,\n",
    "                      5000,\n",
    "                      500)\n",
    "acc = Testing_soft_SVM(X_test,y_test,w)\n",
    "elapsed = timeit.default_timer() - start_time\n",
    "print(\"accuracy:\", acc)\n",
    "print(\"Time (minutes) elapsed for this cell:\", elapsed/60)"
   ]
  },
  {
   "cell_type": "code",
   "execution_count": 22,
   "metadata": {},
   "outputs": [
    {
     "data": {
      "text/html": [
       "<div>\n",
       "<style scoped>\n",
       "    .dataframe tbody tr th:only-of-type {\n",
       "        vertical-align: middle;\n",
       "    }\n",
       "\n",
       "    .dataframe tbody tr th {\n",
       "        vertical-align: top;\n",
       "    }\n",
       "\n",
       "    .dataframe thead th {\n",
       "        text-align: right;\n",
       "    }\n",
       "</style>\n",
       "<table border=\"1\" class=\"dataframe\">\n",
       "  <thead>\n",
       "    <tr style=\"text-align: right;\">\n",
       "      <th></th>\n",
       "      <th>Actually Positive</th>\n",
       "      <th>Actually Negative</th>\n",
       "    </tr>\n",
       "  </thead>\n",
       "  <tbody>\n",
       "    <tr>\n",
       "      <th>Prediced Positive</th>\n",
       "      <td>11058</td>\n",
       "      <td>1709</td>\n",
       "    </tr>\n",
       "    <tr>\n",
       "      <th>Predicted Negative</th>\n",
       "      <td>1442</td>\n",
       "      <td>10791</td>\n",
       "    </tr>\n",
       "  </tbody>\n",
       "</table>\n",
       "</div>"
      ],
      "text/plain": [
       "                    Actually Positive  Actually Negative\n",
       "Prediced Positive               11058               1709\n",
       "Predicted Negative               1442              10791"
      ]
     },
     "execution_count": 22,
     "metadata": {},
     "output_type": "execute_result"
    }
   ],
   "source": [
    "vals = X_test.values.dot(w)\n",
    "predictions = pd.Series((vals/abs(vals)).astype(int))\n",
    "confusion_matrix = produce_confusion_matrix(predictions, y_test)\n",
    "confusion_matrix"
   ]
  },
  {
   "cell_type": "code",
   "execution_count": 27,
   "metadata": {},
   "outputs": [
    {
     "name": "stdout",
     "output_type": "stream",
     "text": [
      "w_n - w_(n-1): 0.022950703553421728\n",
      "accuracy: 0.88276\n",
      "Time (minutes) elapsed for this cell: 6.974603124033698\n"
     ]
    }
   ],
   "source": [
    "start_time = timeit.default_timer()\n",
    "\n",
    "w = soft_SVM_training(X_train,\n",
    "                      y_train,\n",
    "                      1500,\n",
    "                      np.array(X_train.mean()),\n",
    "                      10**-6,\n",
    "                      0.0001,\n",
    "                      10000,\n",
    "                      500)\n",
    "acc = Testing_soft_SVM(X_test,y_test,w)\n",
    "elapsed = timeit.default_timer() - start_time\n",
    "print(\"accuracy:\", acc)\n",
    "print(\"Time (minutes) elapsed for this cell:\", elapsed/60)"
   ]
  },
  {
   "cell_type": "code",
   "execution_count": 28,
   "metadata": {},
   "outputs": [
    {
     "data": {
      "text/html": [
       "<div>\n",
       "<style scoped>\n",
       "    .dataframe tbody tr th:only-of-type {\n",
       "        vertical-align: middle;\n",
       "    }\n",
       "\n",
       "    .dataframe tbody tr th {\n",
       "        vertical-align: top;\n",
       "    }\n",
       "\n",
       "    .dataframe thead th {\n",
       "        text-align: right;\n",
       "    }\n",
       "</style>\n",
       "<table border=\"1\" class=\"dataframe\">\n",
       "  <thead>\n",
       "    <tr style=\"text-align: right;\">\n",
       "      <th></th>\n",
       "      <th>Actually Positive</th>\n",
       "      <th>Actually Negative</th>\n",
       "    </tr>\n",
       "  </thead>\n",
       "  <tbody>\n",
       "    <tr>\n",
       "      <th>Prediced Positive</th>\n",
       "      <td>11136</td>\n",
       "      <td>1567</td>\n",
       "    </tr>\n",
       "    <tr>\n",
       "      <th>Predicted Negative</th>\n",
       "      <td>1364</td>\n",
       "      <td>10933</td>\n",
       "    </tr>\n",
       "  </tbody>\n",
       "</table>\n",
       "</div>"
      ],
      "text/plain": [
       "                    Actually Positive  Actually Negative\n",
       "Prediced Positive               11136               1567\n",
       "Predicted Negative               1364              10933"
      ]
     },
     "execution_count": 28,
     "metadata": {},
     "output_type": "execute_result"
    }
   ],
   "source": [
    "vals = X_test.values.dot(w)\n",
    "predictions = pd.Series((vals/abs(vals)).astype(int))\n",
    "confusion_matrix = produce_confusion_matrix(predictions, y_test)\n",
    "confusion_matrix"
   ]
  }
 ],
 "metadata": {
  "kernelspec": {
   "display_name": "Python 3",
   "language": "python",
   "name": "python3"
  },
  "language_info": {
   "codemirror_mode": {
    "name": "ipython",
    "version": 3
   },
   "file_extension": ".py",
   "mimetype": "text/x-python",
   "name": "python",
   "nbconvert_exporter": "python",
   "pygments_lexer": "ipython3",
   "version": "3.7.3"
  }
 },
 "nbformat": 4,
 "nbformat_minor": 4
}
