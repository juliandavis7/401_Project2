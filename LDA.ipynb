{
 "cells": [
  {
   "cell_type": "code",
   "execution_count": 57,
   "metadata": {},
   "outputs": [],
   "source": [
    "import pandas as pd\n",
    "import numpy as np\n",
    "from numpy.linalg import inv"
   ]
  },
  {
   "cell_type": "code",
   "execution_count": 58,
   "metadata": {},
   "outputs": [
    {
     "data": {
      "text/html": [
       "<div>\n",
       "<style scoped>\n",
       "    .dataframe tbody tr th:only-of-type {\n",
       "        vertical-align: middle;\n",
       "    }\n",
       "\n",
       "    .dataframe tbody tr th {\n",
       "        vertical-align: top;\n",
       "    }\n",
       "\n",
       "    .dataframe thead th {\n",
       "        text-align: right;\n",
       "    }\n",
       "</style>\n",
       "<table border=\"1\" class=\"dataframe\">\n",
       "  <thead>\n",
       "    <tr style=\"text-align: right;\">\n",
       "      <th></th>\n",
       "      <th>pclass</th>\n",
       "      <th>survived</th>\n",
       "      <th>sex</th>\n",
       "      <th>age</th>\n",
       "    </tr>\n",
       "  </thead>\n",
       "  <tbody>\n",
       "    <tr>\n",
       "      <th>0</th>\n",
       "      <td>1</td>\n",
       "      <td>1</td>\n",
       "      <td>female</td>\n",
       "      <td>29.0000</td>\n",
       "    </tr>\n",
       "    <tr>\n",
       "      <th>1</th>\n",
       "      <td>1</td>\n",
       "      <td>1</td>\n",
       "      <td>male</td>\n",
       "      <td>0.9167</td>\n",
       "    </tr>\n",
       "    <tr>\n",
       "      <th>2</th>\n",
       "      <td>1</td>\n",
       "      <td>0</td>\n",
       "      <td>female</td>\n",
       "      <td>2.0000</td>\n",
       "    </tr>\n",
       "    <tr>\n",
       "      <th>3</th>\n",
       "      <td>1</td>\n",
       "      <td>0</td>\n",
       "      <td>male</td>\n",
       "      <td>30.0000</td>\n",
       "    </tr>\n",
       "    <tr>\n",
       "      <th>4</th>\n",
       "      <td>1</td>\n",
       "      <td>0</td>\n",
       "      <td>female</td>\n",
       "      <td>25.0000</td>\n",
       "    </tr>\n",
       "    <tr>\n",
       "      <th>...</th>\n",
       "      <td>...</td>\n",
       "      <td>...</td>\n",
       "      <td>...</td>\n",
       "      <td>...</td>\n",
       "    </tr>\n",
       "    <tr>\n",
       "      <th>1304</th>\n",
       "      <td>3</td>\n",
       "      <td>0</td>\n",
       "      <td>female</td>\n",
       "      <td>14.5000</td>\n",
       "    </tr>\n",
       "    <tr>\n",
       "      <th>1305</th>\n",
       "      <td>3</td>\n",
       "      <td>0</td>\n",
       "      <td>female</td>\n",
       "      <td>NaN</td>\n",
       "    </tr>\n",
       "    <tr>\n",
       "      <th>1306</th>\n",
       "      <td>3</td>\n",
       "      <td>0</td>\n",
       "      <td>male</td>\n",
       "      <td>26.5000</td>\n",
       "    </tr>\n",
       "    <tr>\n",
       "      <th>1307</th>\n",
       "      <td>3</td>\n",
       "      <td>0</td>\n",
       "      <td>male</td>\n",
       "      <td>27.0000</td>\n",
       "    </tr>\n",
       "    <tr>\n",
       "      <th>1308</th>\n",
       "      <td>3</td>\n",
       "      <td>0</td>\n",
       "      <td>male</td>\n",
       "      <td>29.0000</td>\n",
       "    </tr>\n",
       "  </tbody>\n",
       "</table>\n",
       "<p>1309 rows × 4 columns</p>\n",
       "</div>"
      ],
      "text/plain": [
       "      pclass  survived     sex      age\n",
       "0          1         1  female  29.0000\n",
       "1          1         1    male   0.9167\n",
       "2          1         0  female   2.0000\n",
       "3          1         0    male  30.0000\n",
       "4          1         0  female  25.0000\n",
       "...      ...       ...     ...      ...\n",
       "1304       3         0  female  14.5000\n",
       "1305       3         0  female      NaN\n",
       "1306       3         0    male  26.5000\n",
       "1307       3         0    male  27.0000\n",
       "1308       3         0    male  29.0000\n",
       "\n",
       "[1309 rows x 4 columns]"
      ]
     },
     "metadata": {},
     "output_type": "display_data"
    },
    {
     "data": {
      "text/html": [
       "<div>\n",
       "<style scoped>\n",
       "    .dataframe tbody tr th:only-of-type {\n",
       "        vertical-align: middle;\n",
       "    }\n",
       "\n",
       "    .dataframe tbody tr th {\n",
       "        vertical-align: top;\n",
       "    }\n",
       "\n",
       "    .dataframe thead th {\n",
       "        text-align: right;\n",
       "    }\n",
       "</style>\n",
       "<table border=\"1\" class=\"dataframe\">\n",
       "  <thead>\n",
       "    <tr style=\"text-align: right;\">\n",
       "      <th></th>\n",
       "      <th>pclass</th>\n",
       "      <th>survived</th>\n",
       "      <th>sex</th>\n",
       "      <th>age</th>\n",
       "    </tr>\n",
       "  </thead>\n",
       "  <tbody>\n",
       "    <tr>\n",
       "      <th>0</th>\n",
       "      <td>1</td>\n",
       "      <td>1</td>\n",
       "      <td>0</td>\n",
       "      <td>20</td>\n",
       "    </tr>\n",
       "    <tr>\n",
       "      <th>1</th>\n",
       "      <td>1</td>\n",
       "      <td>1</td>\n",
       "      <td>1</td>\n",
       "      <td>0</td>\n",
       "    </tr>\n",
       "    <tr>\n",
       "      <th>2</th>\n",
       "      <td>1</td>\n",
       "      <td>0</td>\n",
       "      <td>0</td>\n",
       "      <td>0</td>\n",
       "    </tr>\n",
       "    <tr>\n",
       "      <th>3</th>\n",
       "      <td>1</td>\n",
       "      <td>0</td>\n",
       "      <td>1</td>\n",
       "      <td>30</td>\n",
       "    </tr>\n",
       "    <tr>\n",
       "      <th>4</th>\n",
       "      <td>1</td>\n",
       "      <td>0</td>\n",
       "      <td>0</td>\n",
       "      <td>20</td>\n",
       "    </tr>\n",
       "  </tbody>\n",
       "</table>\n",
       "</div>"
      ],
      "text/plain": [
       "   pclass  survived  sex  age\n",
       "0       1         1    0   20\n",
       "1       1         1    1    0\n",
       "2       1         0    0    0\n",
       "3       1         0    1   30\n",
       "4       1         0    0   20"
      ]
     },
     "execution_count": 58,
     "metadata": {},
     "output_type": "execute_result"
    }
   ],
   "source": [
    "titanic_csv = \"https://raw.githubusercontent.com/dlsun/data-science-book/master/data/titanic.csv\"\n",
    "titanic_df = pd.read_csv(titanic_csv)\n",
    "features = ['pclass','survived','sex','age']\n",
    "\n",
    "titanic_df = titanic_df.loc[:,features]\n",
    "display(titanic_df)\n",
    "titanic_df.loc[:,'pclass']=titanic_df['pclass'].fillna(titanic_df['pclass'].mode()).astype(int)\n",
    "titanic_df.loc[:,'age']=titanic_df['age'].fillna(titanic_df['age'].median())\n",
    "titanic_df.loc[:,'age']=(titanic_df['age']/10).astype(str).str[0].astype(int)*10\n",
    "titanic_df[\"sex\"] = titanic_df[\"sex\"].map(dict(male=1, female=0))\n",
    "titanic_df.head()"
   ]
  },
  {
   "cell_type": "code",
   "execution_count": 59,
   "metadata": {},
   "outputs": [
    {
     "data": {
      "text/plain": [
       "{0: 0.6180290297937356, 1: 0.3819709702062643}"
      ]
     },
     "execution_count": 59,
     "metadata": {},
     "output_type": "execute_result"
    }
   ],
   "source": [
    "# computes priors\n",
    "def compute_priors(df, response):\n",
    "    y = df[response]\n",
    "    priors = dict(y.value_counts(normalize=True))\n",
    "    return priors\n",
    "\n",
    "priors = compute_priors(titanic_df, \"survived\")\n",
    "priors"
   ]
  },
  {
   "cell_type": "code",
   "execution_count": 60,
   "metadata": {},
   "outputs": [
    {
     "data": {
      "text/plain": [
       "{1: {'pclass': 1.962, 'sex': 0.322, 'age': 23.86},\n",
       " 0: {'pclass': 2.50061804697157,\n",
       "  'sex': 0.8430160692212608,\n",
       "  'age': 24.709517923362174}}"
      ]
     },
     "execution_count": 60,
     "metadata": {},
     "output_type": "execute_result"
    }
   ],
   "source": [
    "# computes the mu vector for each category\n",
    "def compute_mu_vectors(df, response):\n",
    "    y = df[response]\n",
    "    mu_vectors = {}\n",
    "    for category_k in y.unique():\n",
    "        df_k = df[y == category_k] # df with y = category_k\n",
    "        X_k = df_k.drop(response, axis=1)\n",
    "        mu_vectors[category_k] = dict(X_k.mean())\n",
    "    return mu_vectors\n",
    "\n",
    "mean_dict = compute_mu_vectors(titanic_df, \"survived\")\n",
    "mean_dict"
   ]
  },
  {
   "cell_type": "code",
   "execution_count": 61,
   "metadata": {},
   "outputs": [
    {
     "data": {
      "text/plain": [
       "array([[ 1.709314  , -0.43131994,  0.04162978],\n",
       "       [-0.43131994,  4.47844087, -0.01839694],\n",
       "       [ 0.04162978, -0.01839694,  0.00660763]])"
      ]
     },
     "execution_count": 61,
     "metadata": {},
     "output_type": "execute_result"
    }
   ],
   "source": [
    "# computes covariance matrix\n",
    "def compute_inv_sigma(df, response):\n",
    "    X = df.drop(response, axis=1)\n",
    "    return inv(X.cov())\n",
    "    \n",
    "compute_inv_sigma(titanic_df, \"survived\")"
   ]
  },
  {
   "cell_type": "code",
   "execution_count": 62,
   "metadata": {},
   "outputs": [
    {
     "data": {
      "text/plain": [
       "1"
      ]
     },
     "execution_count": 62,
     "metadata": {},
     "output_type": "execute_result"
    }
   ],
   "source": [
    "def classify_new_observation(df, response, new_x):\n",
    "    y = df[response]\n",
    "    \n",
    "    priors = compute_priors(df, response)\n",
    "    mu_vectors = compute_mu_vectors(df, response)\n",
    "    inv_sigma = compute_inv_sigma(df, response)\n",
    "    \n",
    "    prob_dict = {}\n",
    "    for category_k in y.unique():\n",
    "        mu_k = pd.Series(mu_vectors[category_k]).to_numpy()\n",
    "        first_term = new_x.transpose().dot(inv_sigma).dot(mu_k)\n",
    "        second_term = .5 * mu_k.transpose().dot(inv_sigma).dot(mu_k)\n",
    "        third_term = np.log(priors[category_k])\n",
    "        prob_k = first_term - second_term + third_term\n",
    "        \n",
    "        prob_dict[category_k] = prob_k\n",
    "        \n",
    "    best_class, max_prob = next(iter(prob_dict.items()))\n",
    "    for class_k, prob_k in prob_dict.items():\n",
    "        if max_prob < prob_k:\n",
    "            max_prob = prob_k\n",
    "            best_class = class_k\n",
    "      \n",
    "    return best_class\n",
    "        \n",
    "X = titanic_df.drop(\"survived\", axis=1)\n",
    "new_x = X.iloc[0, :]\n",
    "new_x = new_x.to_numpy()\n",
    "\n",
    "class_k = classify_new_observation(titanic_df, \"survived\", new_x)\n",
    "class_k\n",
    "    \n",
    "        \n",
    "\n"
   ]
  },
  {
   "cell_type": "code",
   "execution_count": 82,
   "metadata": {},
   "outputs": [],
   "source": [
    "# returns a dictionary of priors (one key, value pair for each category)\n",
    "def compute_priors(df, response):\n",
    "    y = df[response]\n",
    "    priors_dict = {}\n",
    "    priors = dict(y.value_counts(normalize=True))\n",
    "    return priors\n",
    "\n",
    "# returns a dictionary of mu vectors (one key, value pair for each category)\n",
    "def compute_mu_vectors(df, response):\n",
    "    y = df[response]\n",
    "    mu_vectors = {}\n",
    "    for category_k in y.unique():\n",
    "        df_k = df[y == category_k] # df with y = category_k\n",
    "        X_k = df_k.drop(response, axis=1)\n",
    "        mu_vectors[category_k] = dict(X_k.mean())\n",
    "    return mu_vectors\n",
    "\n",
    "# returns the inverse of the covariance matrix\n",
    "def compute_inv_sigma(df, response):\n",
    "    X = df.drop(response, axis=1)\n",
    "    return inv(X.cov())\n",
    "\n",
    "# returns the classification of a single obs\n",
    "def classify_obs(x_i, y, mu_vectors, priors, inv_sigma):\n",
    "        prob_dict = {}\n",
    "        for category_k in y.unique():\n",
    "            mu_k = pd.Series(mu_vectors[category_k]).to_numpy()\n",
    "            first_term = x_i.transpose().dot(inv_sigma).dot(mu_k)\n",
    "            second_term = .5 * mu_k.transpose().dot(inv_sigma).dot(mu_k)\n",
    "            third_term = np.log(priors[category_k])\n",
    "            prob_k = first_term - second_term + third_term\n",
    "            prob_dict[category_k] = prob_k\n",
    "\n",
    "        best_class, max_prob = next(iter(prob_dict.items()))\n",
    "        for class_k, prob_k in prob_dict.items():\n",
    "            if max_prob < prob_k:\n",
    "                max_prob = prob_k\n",
    "                best_class = class_k\n",
    "        return best_class\n",
    "\n",
    "class LDA:\n",
    "    \n",
    "    def fit(self, X_train, y_train):\n",
    "        df_train = X_train.copy()\n",
    "        response = y_train.name\n",
    "        df_train[response] = y_train\n",
    "        self.y = df_train[response]\n",
    "        self.priors = compute_priors(df_train, response)\n",
    "        self.mu_vectors = compute_mu_vectors(df_train, response)\n",
    "        self.inv_sigma = compute_inv_sigma(df_train, response)\n",
    "        \n",
    "    def predict(self, df_test):\n",
    "        y_pred = {}\n",
    "        for i in range(len(df_test)):\n",
    "            x_i = df_test.loc[i, :].to_numpy()\n",
    "            y_pred[i] = classify_obs(x_i, self.y, self.mu_vectors, self.priors, self.inv_sigma)\n",
    "        return pd.Series(y_pred)\n",
    "    "
   ]
  },
  {
   "cell_type": "code",
   "execution_count": 83,
   "metadata": {},
   "outputs": [],
   "source": [
    "y_train = titanic_df[\"survived\"]\n",
    "model = LDA()\n",
    "\n",
    "X_train = titanic_df.drop(\"survived\", axis=1)\n",
    "y_train = titanic_df[\"survived\"]\n",
    "\n",
    "model.fit(X_train, y_train)\n",
    "y_pred = model.predict(X_train)"
   ]
  },
  {
   "cell_type": "code",
   "execution_count": 84,
   "metadata": {},
   "outputs": [
    {
     "data": {
      "text/plain": [
       "0.7838044308632544"
      ]
     },
     "execution_count": 84,
     "metadata": {},
     "output_type": "execute_result"
    }
   ],
   "source": [
    "(y_train == y_pred).mean()"
   ]
  }
 ],
 "metadata": {
  "kernelspec": {
   "display_name": "Python 3",
   "language": "python",
   "name": "python3"
  },
  "language_info": {
   "codemirror_mode": {
    "name": "ipython",
    "version": 3
   },
   "file_extension": ".py",
   "mimetype": "text/x-python",
   "name": "python",
   "nbconvert_exporter": "python",
   "pygments_lexer": "ipython3",
   "version": "3.7.3"
  }
 },
 "nbformat": 4,
 "nbformat_minor": 4
}
